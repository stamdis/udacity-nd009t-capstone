{
 "cells": [
  {
   "cell_type": "markdown",
   "metadata": {},
   "source": [
    "# Data translation"
   ]
  },
  {
   "cell_type": "markdown",
   "metadata": {},
   "source": [
    "During September 2020, a YouTube channel named [SocialNerds](https://www.youtube.com/channel/UCd5jW000te6bExqYth4TIxQ) released an anonymized [dataset](https://docs.google.com/spreadsheets/d/1TVL6IfF9yaEKa3S6ma69pn-6o2YFxzUgEMTdiec8BpU/edit#gid=613445015) of nearly 600 entries that describes salary levels of software engineers. The data was collected online during the summer of 2020 through a Google Forms questionnaire & commented upon on a [video](https://www.youtube.com/watch?v=e-83bz4RhQ4). The participants are Greek software engineers working mostly for companies located in Greece or abroad."
   ]
  },
  {
   "cell_type": "markdown",
   "metadata": {},
   "source": [
    "Unfortunately the dataset is in Greek, therefore it had to be translated. The process of translation is the scope of this notebook."
   ]
  },
  {
   "cell_type": "markdown",
   "metadata": {},
   "source": [
    "## Load data"
   ]
  },
  {
   "cell_type": "code",
   "execution_count": 1,
   "metadata": {},
   "outputs": [
    {
     "name": "stdout",
     "output_type": "stream",
     "text": [
      "Collecting googletrans\n",
      "  Downloading googletrans-3.0.0.tar.gz (17 kB)\n",
      "Collecting httpx==0.13.3\n",
      "  Downloading httpx-0.13.3-py3-none-any.whl (55 kB)\n",
      "\u001b[K     |████████████████████████████████| 55 kB 4.0 MB/s  eta 0:00:01\n",
      "\u001b[?25hCollecting hstspreload\n",
      "  Downloading hstspreload-2020.10.20-py3-none-any.whl (972 kB)\n",
      "\u001b[K     |████████████████████████████████| 972 kB 19.2 MB/s eta 0:00:01\n",
      "\u001b[?25hCollecting sniffio\n",
      "  Downloading sniffio-1.2.0-py3-none-any.whl (10 kB)\n",
      "Collecting httpcore==0.9.*\n",
      "  Downloading httpcore-0.9.1-py3-none-any.whl (42 kB)\n",
      "\u001b[K     |████████████████████████████████| 42 kB 2.2 MB/s  eta 0:00:01\n",
      "\u001b[?25hRequirement already satisfied: certifi in /home/ec2-user/anaconda3/envs/python3/lib/python3.6/site-packages (from httpx==0.13.3->googletrans) (2020.6.20)\n",
      "Collecting rfc3986<2,>=1.3\n",
      "  Downloading rfc3986-1.4.0-py2.py3-none-any.whl (31 kB)\n",
      "Requirement already satisfied: chardet==3.* in /home/ec2-user/anaconda3/envs/python3/lib/python3.6/site-packages (from httpx==0.13.3->googletrans) (3.0.4)\n",
      "Requirement already satisfied: idna==2.* in /home/ec2-user/anaconda3/envs/python3/lib/python3.6/site-packages (from httpx==0.13.3->googletrans) (2.8)\n",
      "Collecting contextvars>=2.1; python_version < \"3.7\"\n",
      "  Downloading contextvars-2.4.tar.gz (9.6 kB)\n",
      "Collecting h11<0.10,>=0.8\n",
      "  Downloading h11-0.9.0-py2.py3-none-any.whl (53 kB)\n",
      "\u001b[K     |████████████████████████████████| 53 kB 3.7 MB/s  eta 0:00:01\n",
      "\u001b[?25hCollecting h2==3.*\n",
      "  Downloading h2-3.2.0-py2.py3-none-any.whl (65 kB)\n",
      "\u001b[K     |████████████████████████████████| 65 kB 6.3 MB/s  eta 0:00:01\n",
      "\u001b[?25hCollecting immutables>=0.9\n",
      "  Downloading immutables-0.14-cp36-cp36m-manylinux1_x86_64.whl (98 kB)\n",
      "\u001b[K     |████████████████████████████████| 98 kB 1.4 MB/s  eta 0:00:01\n",
      "\u001b[?25hCollecting hpack<4,>=3.0\n",
      "  Downloading hpack-3.0.0-py2.py3-none-any.whl (38 kB)\n",
      "Collecting hyperframe<6,>=5.2.0\n",
      "  Downloading hyperframe-5.2.0-py2.py3-none-any.whl (12 kB)\n",
      "Building wheels for collected packages: googletrans, contextvars\n",
      "  Building wheel for googletrans (setup.py) ... \u001b[?25ldone\n",
      "\u001b[?25h  Created wheel for googletrans: filename=googletrans-3.0.0-py3-none-any.whl size=15734 sha256=0b062ca29f24092051033c947b12be20135dc76f60bcb70e1605e21b980a49d3\n",
      "  Stored in directory: /home/ec2-user/.cache/pip/wheels/06/a1/90/75375ea9aff253a4803b2356007f64aecb6ce2f1e46a0aa9ba\n",
      "  Building wheel for contextvars (setup.py) ... \u001b[?25ldone\n",
      "\u001b[?25h  Created wheel for contextvars: filename=contextvars-2.4-py3-none-any.whl size=7664 sha256=9553bd16ead40331c6c347ffe68eb02d0f2d885123f41750f5576a733c8c0bc6\n",
      "  Stored in directory: /home/ec2-user/.cache/pip/wheels/41/11/53/911724983aa48deb94792432e14e518447212dd6c5477d49d3\n",
      "Successfully built googletrans contextvars\n",
      "Installing collected packages: hstspreload, immutables, contextvars, sniffio, h11, hpack, hyperframe, h2, httpcore, rfc3986, httpx, googletrans\n",
      "Successfully installed contextvars-2.4 googletrans-3.0.0 h11-0.9.0 h2-3.2.0 hpack-3.0.0 hstspreload-2020.10.20 httpcore-0.9.1 httpx-0.13.3 hyperframe-5.2.0 immutables-0.14 rfc3986-1.4.0 sniffio-1.2.0\n",
      "\u001b[33mWARNING: You are using pip version 20.0.2; however, version 20.2.4 is available.\n",
      "You should consider upgrading via the '/home/ec2-user/anaconda3/envs/python3/bin/python -m pip install --upgrade pip' command.\u001b[0m\n",
      "Note: you may need to restart the kernel to use updated packages.\n"
     ]
    }
   ],
   "source": [
    "# install google translator\n",
    "%pip install googletrans\n",
    "\n",
    "# import libraries\n",
    "import os\n",
    "import pandas as pd\n",
    "from googletrans import Translator"
   ]
  },
  {
   "cell_type": "code",
   "execution_count": 2,
   "metadata": {},
   "outputs": [
    {
     "data": {
      "text/html": [
       "<div>\n",
       "<style scoped>\n",
       "    .dataframe tbody tr th:only-of-type {\n",
       "        vertical-align: middle;\n",
       "    }\n",
       "\n",
       "    .dataframe tbody tr th {\n",
       "        vertical-align: top;\n",
       "    }\n",
       "\n",
       "    .dataframe thead th {\n",
       "        text-align: right;\n",
       "    }\n",
       "</style>\n",
       "<table border=\"1\" class=\"dataframe\">\n",
       "  <thead>\n",
       "    <tr style=\"text-align: right;\">\n",
       "      <th></th>\n",
       "      <th>Timestamp</th>\n",
       "      <th>Πόσα χρόνια δουλεύεις επαγγελματικά ως προγραμματιστής;</th>\n",
       "      <th>Με τι είδος development ασχολείσαι επαγγελματικά αυτή την περίοδο;</th>\n",
       "      <th>Σε ποιες γλώσσες προγραμματισμού δουλεύεις  επαγγελματικά αυτή την περίοδο;</th>\n",
       "      <th>Τι μέγεθος είναι η εταιρεία που δουλεύεις;</th>\n",
       "      <th>Ποιος είναι ο τρόπος εργασίας;</th>\n",
       "      <th>Έχεις άτομα υπό την επίβλεψη σου;</th>\n",
       "      <th>Έχεις προσωπικά projects ή κάνεις freelancing πέρα από την κύρια εργασία σου;</th>\n",
       "      <th>Σε ποια πόλη μένεις;</th>\n",
       "      <th>Σε ποια πόλη δουλεύεις;</th>\n",
       "      <th>Φύλλο;</th>\n",
       "      <th>Ποιος είναι ο ετήσιος καθαρός μισθός σου;</th>\n",
       "    </tr>\n",
       "  </thead>\n",
       "  <tbody>\n",
       "    <tr>\n",
       "      <th>0</th>\n",
       "      <td>7/15/2020 12:03:11</td>\n",
       "      <td>4-5</td>\n",
       "      <td>DevOps, Backend, Frontend</td>\n",
       "      <td>C#, JavaScript</td>\n",
       "      <td>11-50</td>\n",
       "      <td>Και τα δύο</td>\n",
       "      <td>Όχι</td>\n",
       "      <td>Ναι</td>\n",
       "      <td>Αθήνα</td>\n",
       "      <td>Αθήνα</td>\n",
       "      <td>Άντρας</td>\n",
       "      <td>18200</td>\n",
       "    </tr>\n",
       "  </tbody>\n",
       "</table>\n",
       "</div>"
      ],
      "text/plain": [
       "            Timestamp Πόσα χρόνια δουλεύεις επαγγελματικά ως προγραμματιστής;  \\\n",
       "0  7/15/2020 12:03:11                                                4-5        \n",
       "\n",
       "  Με τι είδος development ασχολείσαι επαγγελματικά αυτή την περίοδο;  \\\n",
       "0                          DevOps, Backend, Frontend                   \n",
       "\n",
       "  Σε ποιες γλώσσες προγραμματισμού δουλεύεις  επαγγελματικά αυτή την περίοδο;  \\\n",
       "0                                     C#, JavaScript                            \n",
       "\n",
       "  Τι μέγεθος είναι η εταιρεία που δουλεύεις; Ποιος είναι ο τρόπος εργασίας;  \\\n",
       "0                                      11-50                     Και τα δύο   \n",
       "\n",
       "  Έχεις άτομα υπό την επίβλεψη σου;  \\\n",
       "0                               Όχι   \n",
       "\n",
       "  Έχεις προσωπικά projects ή κάνεις freelancing πέρα από την κύρια εργασία σου;  \\\n",
       "0                                                Ναι                              \n",
       "\n",
       "  Σε ποια πόλη μένεις; Σε ποια πόλη δουλεύεις;  Φύλλο;  \\\n",
       "0                Αθήνα                   Αθήνα  Άντρας   \n",
       "\n",
       "  Ποιος είναι ο ετήσιος καθαρός μισθός σου;  \n",
       "0                                     18200  "
      ]
     },
     "execution_count": 2,
     "metadata": {},
     "output_type": "execute_result"
    }
   ],
   "source": [
    "input_file_path = 'data/data_original.csv'\n",
    "data_original = pd.read_csv(input_file_path)\n",
    "\n",
    "# print out the first row of data info\n",
    "data_original.head(1)"
   ]
  },
  {
   "cell_type": "markdown",
   "metadata": {},
   "source": [
    "## Translate column labels"
   ]
  },
  {
   "cell_type": "markdown",
   "metadata": {},
   "source": [
    "The first major step would be to check & translate the column labels of the DataFrame."
   ]
  },
  {
   "cell_type": "code",
   "execution_count": 3,
   "metadata": {},
   "outputs": [
    {
     "name": "stdout",
     "output_type": "stream",
     "text": [
      "<class 'pandas.core.frame.DataFrame'>\n",
      "RangeIndex: 585 entries, 0 to 584\n",
      "Data columns (total 12 columns):\n",
      " #   Column                                                                         Non-Null Count  Dtype \n",
      "---  ------                                                                         --------------  ----- \n",
      " 0   Timestamp                                                                      585 non-null    object\n",
      " 1   Πόσα χρόνια δουλεύεις επαγγελματικά ως προγραμματιστής;                        585 non-null    object\n",
      " 2   Με τι είδος development ασχολείσαι επαγγελματικά αυτή την περίοδο;             585 non-null    object\n",
      " 3   Σε ποιες γλώσσες προγραμματισμού δουλεύεις  επαγγελματικά αυτή την περίοδο;    585 non-null    object\n",
      " 4   Τι μέγεθος είναι η εταιρεία που δουλεύεις;                                     585 non-null    object\n",
      " 5   Ποιος είναι ο τρόπος εργασίας;                                                 585 non-null    object\n",
      " 6   Έχεις άτομα υπό την επίβλεψη σου;                                              585 non-null    object\n",
      " 7   Έχεις προσωπικά projects ή κάνεις freelancing πέρα από την κύρια εργασία σου;  578 non-null    object\n",
      " 8   Σε ποια πόλη μένεις;                                                           585 non-null    object\n",
      " 9   Σε ποια πόλη δουλεύεις;                                                        288 non-null    object\n",
      " 10  Φύλλο;                                                                         575 non-null    object\n",
      " 11  Ποιος είναι ο ετήσιος καθαρός μισθός σου;                                      585 non-null    object\n",
      "dtypes: object(12)\n",
      "memory usage: 55.0+ KB\n"
     ]
    }
   ],
   "source": [
    "data_original.info()"
   ]
  },
  {
   "cell_type": "code",
   "execution_count": 4,
   "metadata": {},
   "outputs": [],
   "source": [
    "# create a translator\n",
    "translator = Translator()"
   ]
  },
  {
   "cell_type": "code",
   "execution_count": 5,
   "metadata": {},
   "outputs": [
    {
     "name": "stdout",
     "output_type": "stream",
     "text": [
      "Index:       0\n",
      "Original:    Timestamp\n",
      "Translated:  Timestamp \n",
      "\n",
      "Index:       1\n",
      "Original:    Πόσα χρόνια δουλεύεις επαγγελματικά ως προγραμματιστής;\n",
      "Translated:  How many years have you worked professionally as a programmer? \n",
      "\n",
      "Index:       2\n",
      "Original:    Με τι είδος development ασχολείσαι επαγγελματικά αυτή την περίοδο;\n",
      "Translated:  What kind of development do you do professionally at the moment? \n",
      "\n",
      "Index:       3\n",
      "Original:    Σε ποιες γλώσσες προγραμματισμού δουλεύεις  επαγγελματικά αυτή την περίοδο;\n",
      "Translated:  What programming languages ​​are you currently working on professionally? \n",
      "\n",
      "Index:       4\n",
      "Original:    Τι μέγεθος είναι η εταιρεία που δουλεύεις;\n",
      "Translated:  What size is the company you work for? \n",
      "\n",
      "Index:       5\n",
      "Original:    Ποιος είναι ο τρόπος εργασίας;\n",
      "Translated:  How does it work? \n",
      "\n",
      "Index:       6\n",
      "Original:    Έχεις άτομα υπό την επίβλεψη σου;\n",
      "Translated:  Do you have people under your supervision? \n",
      "\n",
      "Index:       7\n",
      "Original:    Έχεις προσωπικά projects ή κάνεις freelancing πέρα από την κύρια εργασία σου;\n",
      "Translated:  Do you have personal projects or do you do freelancing beyond your main job? \n",
      "\n",
      "Index:       8\n",
      "Original:    Σε ποια πόλη μένεις;\n",
      "Translated:  In which city do you live; \n",
      "\n",
      "Index:       9\n",
      "Original:    Σε ποια πόλη δουλεύεις;\n",
      "Translated:  In what city do you work? \n",
      "\n",
      "Index:       10\n",
      "Original:    Φύλλο;\n",
      "Translated:  Ply; \n",
      "\n",
      "Index:       11\n",
      "Original:    Ποιος είναι ο ετήσιος καθαρός μισθός σου;\n",
      "Translated:  What is your annual net salary? \n",
      "\n"
     ]
    }
   ],
   "source": [
    "translations = translator.translate(data_original.columns.tolist(), src='el', dest='en')\n",
    "\n",
    "for index, translation in enumerate(translations):\n",
    "    print(\"Index:      \", index)\n",
    "    print(\"Original:   \", translation.origin)\n",
    "    print(\"Translated: \", translation.text, \"\\n\")"
   ]
  },
  {
   "cell_type": "markdown",
   "metadata": {},
   "source": [
    "The translated questions were checked and had to be corrected in some cases."
   ]
  },
  {
   "cell_type": "code",
   "execution_count": 6,
   "metadata": {},
   "outputs": [
    {
     "data": {
      "text/html": [
       "<div>\n",
       "<style scoped>\n",
       "    .dataframe tbody tr th:only-of-type {\n",
       "        vertical-align: middle;\n",
       "    }\n",
       "\n",
       "    .dataframe tbody tr th {\n",
       "        vertical-align: top;\n",
       "    }\n",
       "\n",
       "    .dataframe thead th {\n",
       "        text-align: right;\n",
       "    }\n",
       "</style>\n",
       "<table border=\"1\" class=\"dataframe\">\n",
       "  <thead>\n",
       "    <tr style=\"text-align: right;\">\n",
       "      <th></th>\n",
       "      <th>Timestamp</th>\n",
       "      <th>How many years have you worked professionally as a programmer?</th>\n",
       "      <th>What kind of development do you do professionally at the moment?</th>\n",
       "      <th>What programming languages ​​are you currently working on professionally?</th>\n",
       "      <th>What size is the company you work for?</th>\n",
       "      <th>Do you work on-premises or remotely?</th>\n",
       "      <th>Do you have people under your supervision?</th>\n",
       "      <th>Do you have personal projects or do you do freelancing beyond your main job?</th>\n",
       "      <th>In which city do you live;</th>\n",
       "      <th>In what city do you work?</th>\n",
       "      <th>Sex</th>\n",
       "      <th>What is your annual net salary?</th>\n",
       "    </tr>\n",
       "  </thead>\n",
       "  <tbody>\n",
       "    <tr>\n",
       "      <th>0</th>\n",
       "      <td>7/15/2020 12:03:11</td>\n",
       "      <td>4-5</td>\n",
       "      <td>DevOps, Backend, Frontend</td>\n",
       "      <td>C#, JavaScript</td>\n",
       "      <td>11-50</td>\n",
       "      <td>Και τα δύο</td>\n",
       "      <td>Όχι</td>\n",
       "      <td>Ναι</td>\n",
       "      <td>Αθήνα</td>\n",
       "      <td>Αθήνα</td>\n",
       "      <td>Άντρας</td>\n",
       "      <td>18200</td>\n",
       "    </tr>\n",
       "  </tbody>\n",
       "</table>\n",
       "</div>"
      ],
      "text/plain": [
       "            Timestamp  \\\n",
       "0  7/15/2020 12:03:11   \n",
       "\n",
       "  How many years have you worked professionally as a programmer?  \\\n",
       "0                                                4-5               \n",
       "\n",
       "  What kind of development do you do professionally at the moment?  \\\n",
       "0                          DevOps, Backend, Frontend                 \n",
       "\n",
       "  What programming languages ​​are you currently working on professionally?  \\\n",
       "0                                     C#, JavaScript                          \n",
       "\n",
       "  What size is the company you work for? Do you work on-premises or remotely?  \\\n",
       "0                                  11-50                           Και τα δύο   \n",
       "\n",
       "  Do you have people under your supervision?  \\\n",
       "0                                        Όχι   \n",
       "\n",
       "  Do you have personal projects or do you do freelancing beyond your main job?  \\\n",
       "0                                                Ναι                             \n",
       "\n",
       "  In which city do you live; In what city do you work?     Sex  \\\n",
       "0                      Αθήνα                     Αθήνα  Άντρας   \n",
       "\n",
       "  What is your annual net salary?  \n",
       "0                           18200  "
      ]
     },
     "execution_count": 6,
     "metadata": {},
     "output_type": "execute_result"
    }
   ],
   "source": [
    "translations[5].text = 'Do you work on-premises or remotely?'\n",
    "translations[10].text = 'Sex'\n",
    "\n",
    "data_original.columns = map(lambda x: x.text, translations)\n",
    "data_original.head(1)"
   ]
  },
  {
   "cell_type": "markdown",
   "metadata": {},
   "source": [
    "Currently the survey's questions are used as labels for the DataFrame columns. It was decided to change the labels to shorter camel cased descriptions."
   ]
  },
  {
   "cell_type": "code",
   "execution_count": 7,
   "metadata": {},
   "outputs": [
    {
     "name": "stdout",
     "output_type": "stream",
     "text": [
      "<class 'pandas.core.frame.DataFrame'>\n",
      "RangeIndex: 585 entries, 0 to 584\n",
      "Data columns (total 12 columns):\n",
      " #   Column                                                                        Non-Null Count  Dtype \n",
      "---  ------                                                                        --------------  ----- \n",
      " 0   Timestamp                                                                     585 non-null    object\n",
      " 1   How many years have you worked professionally as a programmer?                585 non-null    object\n",
      " 2   What kind of development do you do professionally at the moment?              585 non-null    object\n",
      " 3   What programming languages ​​are you currently working on professionally?     585 non-null    object\n",
      " 4   What size is the company you work for?                                        585 non-null    object\n",
      " 5   Do you work on-premises or remotely?                                          585 non-null    object\n",
      " 6   Do you have people under your supervision?                                    585 non-null    object\n",
      " 7   Do you have personal projects or do you do freelancing beyond your main job?  578 non-null    object\n",
      " 8   In which city do you live;                                                    585 non-null    object\n",
      " 9   In what city do you work?                                                     288 non-null    object\n",
      " 10  Sex                                                                           575 non-null    object\n",
      " 11  What is your annual net salary?                                               585 non-null    object\n",
      "dtypes: object(12)\n",
      "memory usage: 55.0+ KB\n"
     ]
    }
   ],
   "source": [
    "data_original.info()"
   ]
  },
  {
   "cell_type": "code",
   "execution_count": 8,
   "metadata": {},
   "outputs": [
    {
     "data": {
      "text/html": [
       "<div>\n",
       "<style scoped>\n",
       "    .dataframe tbody tr th:only-of-type {\n",
       "        vertical-align: middle;\n",
       "    }\n",
       "\n",
       "    .dataframe tbody tr th {\n",
       "        vertical-align: top;\n",
       "    }\n",
       "\n",
       "    .dataframe thead th {\n",
       "        text-align: right;\n",
       "    }\n",
       "</style>\n",
       "<table border=\"1\" class=\"dataframe\">\n",
       "  <thead>\n",
       "    <tr style=\"text-align: right;\">\n",
       "      <th></th>\n",
       "      <th>TimeStamp</th>\n",
       "      <th>YearsExperience</th>\n",
       "      <th>DevelopmentType</th>\n",
       "      <th>ProgrammingLanguages</th>\n",
       "      <th>CompanySize</th>\n",
       "      <th>WorkLocation</th>\n",
       "      <th>SuperivisionRole</th>\n",
       "      <th>WorkOutsideMainJob</th>\n",
       "      <th>CityLive</th>\n",
       "      <th>CityWork</th>\n",
       "      <th>Sex</th>\n",
       "      <th>NetSalary</th>\n",
       "    </tr>\n",
       "  </thead>\n",
       "  <tbody>\n",
       "    <tr>\n",
       "      <th>0</th>\n",
       "      <td>7/15/2020 12:03:11</td>\n",
       "      <td>4-5</td>\n",
       "      <td>DevOps, Backend, Frontend</td>\n",
       "      <td>C#, JavaScript</td>\n",
       "      <td>11-50</td>\n",
       "      <td>Και τα δύο</td>\n",
       "      <td>Όχι</td>\n",
       "      <td>Ναι</td>\n",
       "      <td>Αθήνα</td>\n",
       "      <td>Αθήνα</td>\n",
       "      <td>Άντρας</td>\n",
       "      <td>18200</td>\n",
       "    </tr>\n",
       "  </tbody>\n",
       "</table>\n",
       "</div>"
      ],
      "text/plain": [
       "            TimeStamp YearsExperience            DevelopmentType  \\\n",
       "0  7/15/2020 12:03:11             4-5  DevOps, Backend, Frontend   \n",
       "\n",
       "  ProgrammingLanguages CompanySize WorkLocation SuperivisionRole  \\\n",
       "0       C#, JavaScript       11-50   Και τα δύο              Όχι   \n",
       "\n",
       "  WorkOutsideMainJob CityLive CityWork     Sex NetSalary  \n",
       "0                Ναι    Αθήνα    Αθήνα  Άντρας     18200  "
      ]
     },
     "execution_count": 8,
     "metadata": {},
     "output_type": "execute_result"
    }
   ],
   "source": [
    "shortnames = [\n",
    "    'TimeStamp',\n",
    "    'YearsExperience',\n",
    "    'DevelopmentType',\n",
    "    'ProgrammingLanguages',\n",
    "    'CompanySize',\n",
    "    'WorkLocation',\n",
    "    'SuperivisionRole',\n",
    "    'WorkOutsideMainJob',\n",
    "    'CityLive',\n",
    "    'CityWork',\n",
    "    'Sex',\n",
    "    'NetSalary'\n",
    "]\n",
    "\n",
    "data_original.columns = shortnames\n",
    "data_original.head(1)"
   ]
  },
  {
   "cell_type": "markdown",
   "metadata": {},
   "source": [
    "## Translate data values"
   ]
  },
  {
   "cell_type": "markdown",
   "metadata": {},
   "source": [
    "The second major step would be to check & translate the column values of the DataFrame."
   ]
  },
  {
   "cell_type": "code",
   "execution_count": 9,
   "metadata": {},
   "outputs": [
    {
     "data": {
      "text/plain": [
       "TimeStamp               585\n",
       "YearsExperience           5\n",
       "DevelopmentType          57\n",
       "ProgrammingLanguages    126\n",
       "CompanySize               6\n",
       "WorkLocation              3\n",
       "SuperivisionRole          2\n",
       "WorkOutsideMainJob        2\n",
       "CityLive                 43\n",
       "CityWork                 40\n",
       "Sex                       2\n",
       "NetSalary               232\n",
       "dtype: int64"
      ]
     },
     "execution_count": 9,
     "metadata": {},
     "output_type": "execute_result"
    }
   ],
   "source": [
    "data_original.nunique()"
   ]
  },
  {
   "cell_type": "markdown",
   "metadata": {},
   "source": [
    "Some helper functions are defined that are used to detect Greek characters."
   ]
  },
  {
   "cell_type": "code",
   "execution_count": 10,
   "metadata": {},
   "outputs": [],
   "source": [
    "# Helper code to check if a text contains greek characters\n",
    "# https://stackoverflow.com/a/3308844\n",
    "\n",
    "import unicodedata as ud\n",
    "\n",
    "latin_letters= {}\n",
    "\n",
    "def is_latin(uchr):\n",
    "    try: return latin_letters[uchr]\n",
    "    except KeyError:\n",
    "         return latin_letters.setdefault(uchr, 'LATIN' in ud.name(uchr))\n",
    "\n",
    "def only_roman_chars(unistr):\n",
    "    return all(is_latin(uchr)\n",
    "           for uchr in unistr\n",
    "           if uchr.isalpha()) # isalpha suggested by John Machin"
   ]
  },
  {
   "cell_type": "code",
   "execution_count": 11,
   "metadata": {},
   "outputs": [
    {
     "name": "stdout",
     "output_type": "stream",
     "text": [
      "Κάλυμνος --> Kalymnos\n",
      "Κύπρο --> Cyprus\n",
      "15,360 για μερικη απασχοληση σαν εργαζομενος φοιτητης(2ο ετος) --> 15,360 for part-time work as a working student (2nd year)\n",
      "Άντρας --> Man\n",
      "Ρέθυμνο --> Rethimno\n",
      "ΣΑΛΑΜΙΝΑ --> SALAMIS\n",
      "Τρίπολη --> Tripoli\n",
      "περίπου 26600 --> about 26,600\n",
      "Λεμεσό --> Limassol\n",
      "700€ το μήνα --> 700 € per month\n",
      "Κομοτηνή --> Komotini\n",
      "Όχι --> No\n",
      "Σέρρες --> Serres\n",
      "Απομακρυσμένα --> Remote\n",
      "Και τα δύο --> Both\n",
      "Χανια --> Chania\n",
      "Γυναίκα --> Woman\n",
      "Λάρισα --> Larissa\n",
      "Δε δουλεύω ακόμα --> I'm not working yet\n",
      "Δράμα --> Drama\n",
      "Ξάνθη --> Blonde\n",
      "70000 στο περιπου  --> 70000 in approx\n",
      "Κοζανη --> Kozani\n",
      "Καβάλα --> Kavala\n",
      "Λάρνακα --> Larnaca\n",
      "δεν έχω συγκεκριμένη πολη --> I do not have a specific city\n",
      "Βόλος --> Marble\n",
      "750 καθαρά x 12 + (750 + 375 δώρα) = 10.125 (χωρίς bonus) --> 750 net x 12 + (750 + 375 gifts) = 10.125 (without bonus)\n",
      "Λευκωσια --> Nicosia\n",
      "Ιωάννινα --> Janina\n",
      "ΚΑΒΑΛΑ --> ΚΑΒΑΛΑ\n",
      "860 για 32 ωρες τη βδομαδα --> 860 for 32 hours per week\n",
      "Αθήνα --> Athena\n",
      "Στον χώρο του εργοδότη --> At the employer\n",
      "Κοζάνη --> Kozani\n",
      "ΠΕΙΡΑΙΑΣ --> PIRAEUS\n",
      "43000 +ΦΠΑ μικτά (τι καθαρά ρε παιδιά, στην Ελλάδα με μπλοκάκι και τον εφκα να αλλάζει random, δεν βγάζεις άκρη) --> 43000 + VAT mixed (how clean guys, in Greece with a block and the efka to change randomly, you do not get an edge)\n",
      "Θεσσαλονίκη --> Thessaloniki\n",
      "Πάτρα --> Patras\n",
      "Ηράκλειο --> Heraklion\n",
      "Ναι --> Yes\n",
      "Αίγιο --> Aigio\n"
     ]
    }
   ],
   "source": [
    "temp_list = data_original[data_original.applymap(lambda x: not only_roman_chars(str(x)))].values.tolist()\n",
    "temp_list = [item for items in temp_list for item in items]\n",
    "temp_list = list(set(temp_list))\n",
    "\n",
    "clean_list = [x for x in temp_list if str(x) != 'nan']\n",
    "\n",
    "value_translations = translator.translate(clean_list, src='el', dest='en')\n",
    "\n",
    "for translation in value_translations:\n",
    "    print(translation.origin,'-->',translation.text)"
   ]
  },
  {
   "cell_type": "markdown",
   "metadata": {},
   "source": [
    "The translated values were examined and had to be corrected in some cases."
   ]
  },
  {
   "cell_type": "code",
   "execution_count": 12,
   "metadata": {},
   "outputs": [],
   "source": [
    "correction_dictionary = {x.origin: x.text for x in value_translations}\n",
    "correction_dictionary['Ξάνθη'] = 'Xanthi'\n",
    "correction_dictionary['ΚΑΒΑΛΑ'] = 'KAVALA'\n",
    "correction_dictionary['Βόλος'] = 'Volos'\n",
    "\n",
    "data_original = data_original.replace(correction_dictionary)"
   ]
  },
  {
   "cell_type": "markdown",
   "metadata": {},
   "source": [
    "## Save data"
   ]
  },
  {
   "cell_type": "code",
   "execution_count": 13,
   "metadata": {},
   "outputs": [],
   "source": [
    "data_dir = 'data'\n",
    "if not os.path.exists(data_dir):\n",
    "    os.makedirs(data_dir)\n",
    "\n",
    "output_file = 'data_translated.csv'\n",
    "data_original.to_csv(os.path.join(data_dir, output_file), index=False)"
   ]
  },
  {
   "cell_type": "code",
   "execution_count": null,
   "metadata": {},
   "outputs": [],
   "source": []
  }
 ],
 "metadata": {
  "kernelspec": {
   "display_name": "conda_python3",
   "language": "python",
   "name": "conda_python3"
  },
  "language_info": {
   "codemirror_mode": {
    "name": "ipython",
    "version": 3
   },
   "file_extension": ".py",
   "mimetype": "text/x-python",
   "name": "python",
   "nbconvert_exporter": "python",
   "pygments_lexer": "ipython3",
   "version": "3.6.10"
  }
 },
 "nbformat": 4,
 "nbformat_minor": 4
}
