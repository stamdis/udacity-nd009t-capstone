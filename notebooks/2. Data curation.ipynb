{
 "cells": [
  {
   "cell_type": "markdown",
   "metadata": {},
   "source": [
    "# Data curation"
   ]
  },
  {
   "cell_type": "markdown",
   "metadata": {},
   "source": [
    "After the translation of the dataset it was discovered that the data was not ready to be further processed. Since the original values were retrieved through an online survey, many answers contain mistakes or were not entered in a proper state or type.\n",
    "\n",
    "The scope of this notebook is to curate any received data without major modifications or deletions."
   ]
  },
  {
   "cell_type": "markdown",
   "metadata": {},
   "source": [
    "## Load data"
   ]
  },
  {
   "cell_type": "code",
   "execution_count": 1,
   "metadata": {},
   "outputs": [],
   "source": [
    "import os\n",
    "import pandas as pd\n",
    "\n",
    "pd.set_option('display.max_colwidth', None)\n",
    "pd.set_option('display.max_rows', 60)\n",
    "pd.set_option('display.max_rows', None)"
   ]
  },
  {
   "cell_type": "code",
   "execution_count": 2,
   "metadata": {},
   "outputs": [
    {
     "name": "stdout",
     "output_type": "stream",
     "text": [
      "<class 'pandas.core.frame.DataFrame'>\n",
      "RangeIndex: 585 entries, 0 to 584\n",
      "Data columns (total 12 columns):\n",
      " #   Column                Non-Null Count  Dtype \n",
      "---  ------                --------------  ----- \n",
      " 0   TimeStamp             585 non-null    object\n",
      " 1   YearsExperience       585 non-null    object\n",
      " 2   DevelopmentType       585 non-null    object\n",
      " 3   ProgrammingLanguages  585 non-null    object\n",
      " 4   CompanySize           585 non-null    object\n",
      " 5   WorkLocation          585 non-null    object\n",
      " 6   SuperivisionRole      585 non-null    object\n",
      " 7   WorkOutsideMainJob    578 non-null    object\n",
      " 8   CityLive              585 non-null    object\n",
      " 9   CityWork              288 non-null    object\n",
      " 10  Sex                   575 non-null    object\n",
      " 11  NetSalary             585 non-null    object\n",
      "dtypes: object(12)\n",
      "memory usage: 55.0+ KB\n"
     ]
    }
   ],
   "source": [
    "input_file_path = 'data/data_translated.csv'\n",
    "data_translated = pd.read_csv(input_file_path)\n",
    "\n",
    "data_translated.info()"
   ]
  },
  {
   "cell_type": "markdown",
   "metadata": {},
   "source": [
    "## `NetSalary` column"
   ]
  },
  {
   "cell_type": "markdown",
   "metadata": {},
   "source": [
    "The first step is to curate the `NetSalary` column as it contains non numeric values. This column will be the dependent variable in our model creation process."
   ]
  },
  {
   "cell_type": "code",
   "execution_count": 3,
   "metadata": {},
   "outputs": [
    {
     "data": {
      "text/plain": [
       "False"
      ]
     },
     "execution_count": 3,
     "metadata": {},
     "output_type": "execute_result"
    }
   ],
   "source": [
    "data_translated.NetSalary.str.isnumeric().all()"
   ]
  },
  {
   "cell_type": "markdown",
   "metadata": {},
   "source": [
    "A simple helper function is defined that returns the non numeric net salary values."
   ]
  },
  {
   "cell_type": "code",
   "execution_count": 4,
   "metadata": {},
   "outputs": [],
   "source": [
    "def non_numeric_salary():\n",
    "    return pd.to_numeric(data_translated.NetSalary, errors='coerce').isna()"
   ]
  },
  {
   "cell_type": "markdown",
   "metadata": {},
   "source": [
    "The following non numeric values were found."
   ]
  },
  {
   "cell_type": "code",
   "execution_count": 5,
   "metadata": {
    "scrolled": false
   },
   "outputs": [
    {
     "data": {
      "text/html": [
       "<div>\n",
       "<style scoped>\n",
       "    .dataframe tbody tr th:only-of-type {\n",
       "        vertical-align: middle;\n",
       "    }\n",
       "\n",
       "    .dataframe tbody tr th {\n",
       "        vertical-align: top;\n",
       "    }\n",
       "\n",
       "    .dataframe thead th {\n",
       "        text-align: right;\n",
       "    }\n",
       "</style>\n",
       "<table border=\"1\" class=\"dataframe\">\n",
       "  <thead>\n",
       "    <tr style=\"text-align: right;\">\n",
       "      <th></th>\n",
       "      <th>YearsExperience</th>\n",
       "      <th>CityLive</th>\n",
       "      <th>CityWork</th>\n",
       "      <th>NetSalary</th>\n",
       "    </tr>\n",
       "  </thead>\n",
       "  <tbody>\n",
       "    <tr>\n",
       "      <th>9</th>\n",
       "      <td>1-3</td>\n",
       "      <td>Heraklion</td>\n",
       "      <td>Stuttgart</td>\n",
       "      <td>15,360 for part-time work as a working student (2nd year)</td>\n",
       "    </tr>\n",
       "    <tr>\n",
       "      <th>17</th>\n",
       "      <td>4-5</td>\n",
       "      <td>Thessaloniki</td>\n",
       "      <td>Dublin/California</td>\n",
       "      <td>~43.000</td>\n",
       "    </tr>\n",
       "    <tr>\n",
       "      <th>23</th>\n",
       "      <td>1-3</td>\n",
       "      <td>Athena</td>\n",
       "      <td>Berlin</td>\n",
       "      <td>40K</td>\n",
       "    </tr>\n",
       "    <tr>\n",
       "      <th>55</th>\n",
       "      <td>1-3</td>\n",
       "      <td>Thessaloniki</td>\n",
       "      <td>Thessaloniki</td>\n",
       "      <td>850€ * 14 = 11.900€</td>\n",
       "    </tr>\n",
       "    <tr>\n",
       "      <th>58</th>\n",
       "      <td>6-10</td>\n",
       "      <td>Athena</td>\n",
       "      <td>Athena</td>\n",
       "      <td>14,700</td>\n",
       "    </tr>\n",
       "    <tr>\n",
       "      <th>59</th>\n",
       "      <td>6-10</td>\n",
       "      <td>Athena</td>\n",
       "      <td>San Francisco</td>\n",
       "      <td>~100.000</td>\n",
       "    </tr>\n",
       "    <tr>\n",
       "      <th>66</th>\n",
       "      <td>4-5</td>\n",
       "      <td>Serres</td>\n",
       "      <td>Drama</td>\n",
       "      <td>11,800</td>\n",
       "    </tr>\n",
       "    <tr>\n",
       "      <th>124</th>\n",
       "      <td>1-3</td>\n",
       "      <td>Heraklion</td>\n",
       "      <td>Heraklion</td>\n",
       "      <td>700 € per month</td>\n",
       "    </tr>\n",
       "    <tr>\n",
       "      <th>141</th>\n",
       "      <td>6-10</td>\n",
       "      <td>Oxford</td>\n",
       "      <td>Oxford</td>\n",
       "      <td>70000 in approx</td>\n",
       "    </tr>\n",
       "    <tr>\n",
       "      <th>160</th>\n",
       "      <td>1-3</td>\n",
       "      <td>Thessaloniki</td>\n",
       "      <td>Thessaloniki</td>\n",
       "      <td>12.18€</td>\n",
       "    </tr>\n",
       "    <tr>\n",
       "      <th>183</th>\n",
       "      <td>1-3</td>\n",
       "      <td>Athena</td>\n",
       "      <td>Athena</td>\n",
       "      <td>750 net x 12 + (750 + 375 gifts) = 10.125 (without bonus)</td>\n",
       "    </tr>\n",
       "    <tr>\n",
       "      <th>237</th>\n",
       "      <td>1-3</td>\n",
       "      <td>Patras</td>\n",
       "      <td>Patras</td>\n",
       "      <td>11.20€</td>\n",
       "    </tr>\n",
       "    <tr>\n",
       "      <th>254</th>\n",
       "      <td>1-3</td>\n",
       "      <td>Kozani</td>\n",
       "      <td>Kozani</td>\n",
       "      <td>7800 (suddenly)</td>\n",
       "    </tr>\n",
       "    <tr>\n",
       "      <th>343</th>\n",
       "      <td>1-3</td>\n",
       "      <td>Heraklion</td>\n",
       "      <td>Cambridge</td>\n",
       "      <td>860 for 32 hours per week</td>\n",
       "    </tr>\n",
       "    <tr>\n",
       "      <th>349</th>\n",
       "      <td>I'm not working yet</td>\n",
       "      <td>Thessaloniki</td>\n",
       "      <td>Thessaloniki</td>\n",
       "      <td>11,200</td>\n",
       "    </tr>\n",
       "    <tr>\n",
       "      <th>357</th>\n",
       "      <td>6-10</td>\n",
       "      <td>Heraklion</td>\n",
       "      <td>Heraklion</td>\n",
       "      <td>30.00€</td>\n",
       "    </tr>\n",
       "    <tr>\n",
       "      <th>367</th>\n",
       "      <td>1-3</td>\n",
       "      <td>Athena</td>\n",
       "      <td>Athena</td>\n",
       "      <td>750 * 14</td>\n",
       "    </tr>\n",
       "    <tr>\n",
       "      <th>555</th>\n",
       "      <td>11+</td>\n",
       "      <td>Athena</td>\n",
       "      <td>Athena</td>\n",
       "      <td>43000 + VAT mixed (how clean guys, in Greece with a block and the efka to change randomly, you do not get an edge)</td>\n",
       "    </tr>\n",
       "    <tr>\n",
       "      <th>558</th>\n",
       "      <td>11+</td>\n",
       "      <td>Athena</td>\n",
       "      <td>NaN</td>\n",
       "      <td>42000 + 1450 (up hellas)</td>\n",
       "    </tr>\n",
       "    <tr>\n",
       "      <th>562</th>\n",
       "      <td>4-5</td>\n",
       "      <td>Athena</td>\n",
       "      <td>Athena</td>\n",
       "      <td>about 26,600</td>\n",
       "    </tr>\n",
       "  </tbody>\n",
       "</table>\n",
       "</div>"
      ],
      "text/plain": [
       "         YearsExperience      CityLive            CityWork  \\\n",
       "9                    1-3     Heraklion           Stuttgart   \n",
       "17                   4-5  Thessaloniki  Dublin/California    \n",
       "23                   1-3        Athena              Berlin   \n",
       "55                   1-3  Thessaloniki        Thessaloniki   \n",
       "58                  6-10        Athena              Athena   \n",
       "59                  6-10        Athena       San Francisco   \n",
       "66                   4-5        Serres               Drama   \n",
       "124                  1-3     Heraklion           Heraklion   \n",
       "141                 6-10        Oxford              Oxford   \n",
       "160                  1-3  Thessaloniki        Thessaloniki   \n",
       "183                  1-3        Athena              Athena   \n",
       "237                  1-3        Patras              Patras   \n",
       "254                  1-3        Kozani              Kozani   \n",
       "343                  1-3     Heraklion           Cambridge   \n",
       "349  I'm not working yet  Thessaloniki        Thessaloniki   \n",
       "357                 6-10     Heraklion           Heraklion   \n",
       "367                  1-3        Athena              Athena   \n",
       "555                  11+        Athena              Athena   \n",
       "558                  11+        Athena                 NaN   \n",
       "562                  4-5        Athena              Athena   \n",
       "\n",
       "                                                                                                              NetSalary  \n",
       "9                                                             15,360 for part-time work as a working student (2nd year)  \n",
       "17                                                                                                              ~43.000  \n",
       "23                                                                                                                  40K  \n",
       "55                                                                                                  850€ * 14 = 11.900€  \n",
       "58                                                                                                               14,700  \n",
       "59                                                                                                             ~100.000  \n",
       "66                                                                                                               11,800  \n",
       "124                                                                                                     700 € per month  \n",
       "141                                                                                                     70000 in approx  \n",
       "160                                                                                                              12.18€  \n",
       "183                                                           750 net x 12 + (750 + 375 gifts) = 10.125 (without bonus)  \n",
       "237                                                                                                              11.20€  \n",
       "254                                                                                                     7800 (suddenly)  \n",
       "343                                                                                           860 for 32 hours per week  \n",
       "349                                                                                                              11,200  \n",
       "357                                                                                                              30.00€  \n",
       "367                                                                                                            750 * 14  \n",
       "555  43000 + VAT mixed (how clean guys, in Greece with a block and the efka to change randomly, you do not get an edge)  \n",
       "558                                                                                            42000 + 1450 (up hellas)  \n",
       "562                                                                                                        about 26,600  "
      ]
     },
     "execution_count": 5,
     "metadata": {},
     "output_type": "execute_result"
    }
   ],
   "source": [
    "data_translated.loc[non_numeric_salary(), ['YearsExperience', 'CityLive', 'CityWork', 'NetSalary']]"
   ]
  },
  {
   "cell_type": "markdown",
   "metadata": {},
   "source": [
    "The Greek decimal separator (comma) is replaced with the US separator (period)."
   ]
  },
  {
   "cell_type": "code",
   "execution_count": 6,
   "metadata": {},
   "outputs": [
    {
     "data": {
      "text/html": [
       "<div>\n",
       "<style scoped>\n",
       "    .dataframe tbody tr th:only-of-type {\n",
       "        vertical-align: middle;\n",
       "    }\n",
       "\n",
       "    .dataframe tbody tr th {\n",
       "        vertical-align: top;\n",
       "    }\n",
       "\n",
       "    .dataframe thead th {\n",
       "        text-align: right;\n",
       "    }\n",
       "</style>\n",
       "<table border=\"1\" class=\"dataframe\">\n",
       "  <thead>\n",
       "    <tr style=\"text-align: right;\">\n",
       "      <th></th>\n",
       "      <th>YearsExperience</th>\n",
       "      <th>CityLive</th>\n",
       "      <th>CityWork</th>\n",
       "      <th>NetSalary</th>\n",
       "    </tr>\n",
       "  </thead>\n",
       "  <tbody>\n",
       "    <tr>\n",
       "      <th>9</th>\n",
       "      <td>1-3</td>\n",
       "      <td>Heraklion</td>\n",
       "      <td>Stuttgart</td>\n",
       "      <td>15.360 for part-time work as a working student (2nd year)</td>\n",
       "    </tr>\n",
       "    <tr>\n",
       "      <th>17</th>\n",
       "      <td>4-5</td>\n",
       "      <td>Thessaloniki</td>\n",
       "      <td>Dublin/California</td>\n",
       "      <td>~43.000</td>\n",
       "    </tr>\n",
       "    <tr>\n",
       "      <th>23</th>\n",
       "      <td>1-3</td>\n",
       "      <td>Athena</td>\n",
       "      <td>Berlin</td>\n",
       "      <td>40K</td>\n",
       "    </tr>\n",
       "    <tr>\n",
       "      <th>55</th>\n",
       "      <td>1-3</td>\n",
       "      <td>Thessaloniki</td>\n",
       "      <td>Thessaloniki</td>\n",
       "      <td>850€ * 14 = 11.900€</td>\n",
       "    </tr>\n",
       "    <tr>\n",
       "      <th>59</th>\n",
       "      <td>6-10</td>\n",
       "      <td>Athena</td>\n",
       "      <td>San Francisco</td>\n",
       "      <td>~100.000</td>\n",
       "    </tr>\n",
       "    <tr>\n",
       "      <th>124</th>\n",
       "      <td>1-3</td>\n",
       "      <td>Heraklion</td>\n",
       "      <td>Heraklion</td>\n",
       "      <td>700 € per month</td>\n",
       "    </tr>\n",
       "    <tr>\n",
       "      <th>141</th>\n",
       "      <td>6-10</td>\n",
       "      <td>Oxford</td>\n",
       "      <td>Oxford</td>\n",
       "      <td>70000 in approx</td>\n",
       "    </tr>\n",
       "    <tr>\n",
       "      <th>160</th>\n",
       "      <td>1-3</td>\n",
       "      <td>Thessaloniki</td>\n",
       "      <td>Thessaloniki</td>\n",
       "      <td>12.18€</td>\n",
       "    </tr>\n",
       "    <tr>\n",
       "      <th>183</th>\n",
       "      <td>1-3</td>\n",
       "      <td>Athena</td>\n",
       "      <td>Athena</td>\n",
       "      <td>750 net x 12 + (750 + 375 gifts) = 10.125 (without bonus)</td>\n",
       "    </tr>\n",
       "    <tr>\n",
       "      <th>237</th>\n",
       "      <td>1-3</td>\n",
       "      <td>Patras</td>\n",
       "      <td>Patras</td>\n",
       "      <td>11.20€</td>\n",
       "    </tr>\n",
       "    <tr>\n",
       "      <th>254</th>\n",
       "      <td>1-3</td>\n",
       "      <td>Kozani</td>\n",
       "      <td>Kozani</td>\n",
       "      <td>7800 (suddenly)</td>\n",
       "    </tr>\n",
       "    <tr>\n",
       "      <th>343</th>\n",
       "      <td>1-3</td>\n",
       "      <td>Heraklion</td>\n",
       "      <td>Cambridge</td>\n",
       "      <td>860 for 32 hours per week</td>\n",
       "    </tr>\n",
       "    <tr>\n",
       "      <th>357</th>\n",
       "      <td>6-10</td>\n",
       "      <td>Heraklion</td>\n",
       "      <td>Heraklion</td>\n",
       "      <td>30.00€</td>\n",
       "    </tr>\n",
       "    <tr>\n",
       "      <th>367</th>\n",
       "      <td>1-3</td>\n",
       "      <td>Athena</td>\n",
       "      <td>Athena</td>\n",
       "      <td>750 * 14</td>\n",
       "    </tr>\n",
       "    <tr>\n",
       "      <th>555</th>\n",
       "      <td>11+</td>\n",
       "      <td>Athena</td>\n",
       "      <td>Athena</td>\n",
       "      <td>43000 + VAT mixed (how clean guys. in Greece with a block and the efka to change randomly. you do not get an edge)</td>\n",
       "    </tr>\n",
       "    <tr>\n",
       "      <th>558</th>\n",
       "      <td>11+</td>\n",
       "      <td>Athena</td>\n",
       "      <td>NaN</td>\n",
       "      <td>42000 + 1450 (up hellas)</td>\n",
       "    </tr>\n",
       "    <tr>\n",
       "      <th>562</th>\n",
       "      <td>4-5</td>\n",
       "      <td>Athena</td>\n",
       "      <td>Athena</td>\n",
       "      <td>about 26.600</td>\n",
       "    </tr>\n",
       "  </tbody>\n",
       "</table>\n",
       "</div>"
      ],
      "text/plain": [
       "    YearsExperience      CityLive            CityWork  \\\n",
       "9               1-3     Heraklion           Stuttgart   \n",
       "17              4-5  Thessaloniki  Dublin/California    \n",
       "23              1-3        Athena              Berlin   \n",
       "55              1-3  Thessaloniki        Thessaloniki   \n",
       "59             6-10        Athena       San Francisco   \n",
       "124             1-3     Heraklion           Heraklion   \n",
       "141            6-10        Oxford              Oxford   \n",
       "160             1-3  Thessaloniki        Thessaloniki   \n",
       "183             1-3        Athena              Athena   \n",
       "237             1-3        Patras              Patras   \n",
       "254             1-3        Kozani              Kozani   \n",
       "343             1-3     Heraklion           Cambridge   \n",
       "357            6-10     Heraklion           Heraklion   \n",
       "367             1-3        Athena              Athena   \n",
       "555             11+        Athena              Athena   \n",
       "558             11+        Athena                 NaN   \n",
       "562             4-5        Athena              Athena   \n",
       "\n",
       "                                                                                                              NetSalary  \n",
       "9                                                             15.360 for part-time work as a working student (2nd year)  \n",
       "17                                                                                                              ~43.000  \n",
       "23                                                                                                                  40K  \n",
       "55                                                                                                  850€ * 14 = 11.900€  \n",
       "59                                                                                                             ~100.000  \n",
       "124                                                                                                     700 € per month  \n",
       "141                                                                                                     70000 in approx  \n",
       "160                                                                                                              12.18€  \n",
       "183                                                           750 net x 12 + (750 + 375 gifts) = 10.125 (without bonus)  \n",
       "237                                                                                                              11.20€  \n",
       "254                                                                                                     7800 (suddenly)  \n",
       "343                                                                                           860 for 32 hours per week  \n",
       "357                                                                                                              30.00€  \n",
       "367                                                                                                            750 * 14  \n",
       "555  43000 + VAT mixed (how clean guys. in Greece with a block and the efka to change randomly. you do not get an edge)  \n",
       "558                                                                                            42000 + 1450 (up hellas)  \n",
       "562                                                                                                        about 26.600  "
      ]
     },
     "execution_count": 6,
     "metadata": {},
     "output_type": "execute_result"
    }
   ],
   "source": [
    "data_translated['NetSalary'] = data_translated['NetSalary'].str.replace(',','.')\n",
    "\n",
    "data_translated.loc[non_numeric_salary(), ['YearsExperience', 'CityLive', 'CityWork', 'NetSalary']]"
   ]
  },
  {
   "cell_type": "markdown",
   "metadata": {},
   "source": [
    "The remaining data is curated manually. Any comments or textual hints added by the user into the input field are taken into acount. Rows 14 and 21 are dropped since the `NetSalary` value could not be explained."
   ]
  },
  {
   "cell_type": "code",
   "execution_count": 7,
   "metadata": {},
   "outputs": [],
   "source": [
    "data_translated = data_translated.drop([14, 21])\n",
    "\n",
    "data_translated.loc[9, 'NetSalary'] = '30720'\n",
    "data_translated.loc[17, 'NetSalary'] = '43000'\n",
    "data_translated.loc[23, 'NetSalary'] = '40000'\n",
    "data_translated.loc[55, 'NetSalary'] = '11900'\n",
    "data_translated.loc[59, 'NetSalary'] = '100000'\n",
    "data_translated.loc[124, 'NetSalary'] = '700'\n",
    "data_translated.loc[141, 'NetSalary'] = '70000'\n",
    "data_translated.loc[160, 'NetSalary'] = '12.18'\n",
    "data_translated.loc[183, 'NetSalary'] = '10125'\n",
    "data_translated.loc[237, 'NetSalary'] = '11.2'\n",
    "data_translated.loc[254, 'NetSalary'] = '7800'\n",
    "data_translated.loc[343, 'NetSalary'] = '15050'\n",
    "data_translated.loc[357, 'NetSalary'] = '30.00'\n",
    "data_translated.loc[367, 'NetSalary'] = '10500'\n",
    "data_translated.loc[555, 'NetSalary'] = '27408'\n",
    "data_translated.loc[558, 'NetSalary'] = '43450'\n",
    "data_translated.loc[562, 'NetSalary'] = '26600'"
   ]
  },
  {
   "cell_type": "markdown",
   "metadata": {},
   "source": [
    "The `NetSalary` column is converted to float type."
   ]
  },
  {
   "cell_type": "code",
   "execution_count": 8,
   "metadata": {},
   "outputs": [],
   "source": [
    "data_translated.NetSalary = data_translated.NetSalary.astype(float)"
   ]
  },
  {
   "cell_type": "markdown",
   "metadata": {},
   "source": [
    "The `NetSalary` column values are plotted into a histogram so we can check the distribution and any outliers."
   ]
  },
  {
   "cell_type": "code",
   "execution_count": 9,
   "metadata": {
    "scrolled": false
   },
   "outputs": [
    {
     "data": {
      "text/plain": [
       "<matplotlib.axes._subplots.AxesSubplot at 0x7f1be46a90f0>"
      ]
     },
     "execution_count": 9,
     "metadata": {},
     "output_type": "execute_result"
    },
    {
     "data": {
      "image/png": "[encoded data removed]",
      "text/plain": [
       "<Figure size 1080x720 with 1 Axes>"
      ]
     },
     "metadata": {
      "needs_background": "light"
     },
     "output_type": "display_data"
    }
   ],
   "source": [
    "data_translated.NetSalary.plot.hist(figsize=(15,10), bins=100)"
   ]
  },
  {
   "cell_type": "markdown",
   "metadata": {},
   "source": [
    "One outlier was found at the right end of the histogram. After evaluating the case, it was decided to curate the value assuming an extra zero was added accidentally but the user."
   ]
  },
  {
   "cell_type": "code",
   "execution_count": 10,
   "metadata": {},
   "outputs": [
    {
     "data": {
      "text/html": [
       "<div>\n",
       "<style scoped>\n",
       "    .dataframe tbody tr th:only-of-type {\n",
       "        vertical-align: middle;\n",
       "    }\n",
       "\n",
       "    .dataframe tbody tr th {\n",
       "        vertical-align: top;\n",
       "    }\n",
       "\n",
       "    .dataframe thead th {\n",
       "        text-align: right;\n",
       "    }\n",
       "</style>\n",
       "<table border=\"1\" class=\"dataframe\">\n",
       "  <thead>\n",
       "    <tr style=\"text-align: right;\">\n",
       "      <th></th>\n",
       "      <th>TimeStamp</th>\n",
       "      <th>YearsExperience</th>\n",
       "      <th>DevelopmentType</th>\n",
       "      <th>ProgrammingLanguages</th>\n",
       "      <th>CompanySize</th>\n",
       "      <th>WorkLocation</th>\n",
       "      <th>SuperivisionRole</th>\n",
       "      <th>WorkOutsideMainJob</th>\n",
       "      <th>CityLive</th>\n",
       "      <th>CityWork</th>\n",
       "      <th>Sex</th>\n",
       "      <th>NetSalary</th>\n",
       "    </tr>\n",
       "  </thead>\n",
       "  <tbody>\n",
       "    <tr>\n",
       "      <th>47</th>\n",
       "      <td>7/15/2020 16:02:01</td>\n",
       "      <td>4-5</td>\n",
       "      <td>AI / ML</td>\n",
       "      <td>C, C++, C#, Python, Visual Basic .NET, PHP, R</td>\n",
       "      <td>101-200</td>\n",
       "      <td>Both</td>\n",
       "      <td>Yes</td>\n",
       "      <td>Yes</td>\n",
       "      <td>Patras</td>\n",
       "      <td>Patras</td>\n",
       "      <td>Man</td>\n",
       "      <td>348000.0</td>\n",
       "    </tr>\n",
       "  </tbody>\n",
       "</table>\n",
       "</div>"
      ],
      "text/plain": [
       "             TimeStamp YearsExperience DevelopmentType  \\\n",
       "47  7/15/2020 16:02:01             4-5         AI / ML   \n",
       "\n",
       "                             ProgrammingLanguages CompanySize WorkLocation  \\\n",
       "47  C, C++, C#, Python, Visual Basic .NET, PHP, R     101-200         Both   \n",
       "\n",
       "   SuperivisionRole WorkOutsideMainJob CityLive CityWork  Sex  NetSalary  \n",
       "47              Yes                Yes   Patras   Patras  Man   348000.0  "
      ]
     },
     "execution_count": 10,
     "metadata": {},
     "output_type": "execute_result"
    }
   ],
   "source": [
    "data_translated[data_translated['NetSalary'] > 150000]"
   ]
  },
  {
   "cell_type": "code",
   "execution_count": 11,
   "metadata": {},
   "outputs": [],
   "source": [
    "data_translated.loc[47, 'NetSalary'] = data_translated.loc[47, 'NetSalary'] / 10"
   ]
  },
  {
   "cell_type": "markdown",
   "metadata": {},
   "source": [
    "The `NetSalary` column values are plotted again into a histogram. This time low values are examined."
   ]
  },
  {
   "cell_type": "code",
   "execution_count": 12,
   "metadata": {
    "scrolled": false
   },
   "outputs": [
    {
     "data": {
      "text/plain": [
       "<matplotlib.axes._subplots.AxesSubplot at 0x7f1be3a58978>"
      ]
     },
     "execution_count": 12,
     "metadata": {},
     "output_type": "execute_result"
    },
    {
     "data": {
      "image/png": "[encoded data removed]",
      "text/plain": [
       "<Figure size 1080x720 with 1 Axes>"
      ]
     },
     "metadata": {
      "needs_background": "light"
     },
     "output_type": "display_data"
    }
   ],
   "source": [
    "data_translated.NetSalary.plot.hist(figsize=(15,10), bins=100, xticks=[5000,10000,15000,20000,30000,40000,50000,100000])"
   ]
  },
  {
   "cell_type": "markdown",
   "metadata": {},
   "source": [
    "A quick look on values between 2000 and 7000."
   ]
  },
  {
   "cell_type": "code",
   "execution_count": 13,
   "metadata": {},
   "outputs": [
    {
     "data": {
      "text/html": [
       "<div>\n",
       "<style scoped>\n",
       "    .dataframe tbody tr th:only-of-type {\n",
       "        vertical-align: middle;\n",
       "    }\n",
       "\n",
       "    .dataframe tbody tr th {\n",
       "        vertical-align: top;\n",
       "    }\n",
       "\n",
       "    .dataframe thead th {\n",
       "        text-align: right;\n",
       "    }\n",
       "</style>\n",
       "<table border=\"1\" class=\"dataframe\">\n",
       "  <thead>\n",
       "    <tr style=\"text-align: right;\">\n",
       "      <th></th>\n",
       "      <th>YearsExperience</th>\n",
       "      <th>CityLive</th>\n",
       "      <th>CityWork</th>\n",
       "      <th>NetSalary</th>\n",
       "    </tr>\n",
       "  </thead>\n",
       "  <tbody>\n",
       "    <tr>\n",
       "      <th>2</th>\n",
       "      <td>1-3</td>\n",
       "      <td>Athena</td>\n",
       "      <td>Athena</td>\n",
       "      <td>5460.0</td>\n",
       "    </tr>\n",
       "    <tr>\n",
       "      <th>38</th>\n",
       "      <td>6-10</td>\n",
       "      <td>London</td>\n",
       "      <td>London</td>\n",
       "      <td>4000.0</td>\n",
       "    </tr>\n",
       "    <tr>\n",
       "      <th>40</th>\n",
       "      <td>1-3</td>\n",
       "      <td>Thessaloniki</td>\n",
       "      <td>Thessaloniki</td>\n",
       "      <td>6000.0</td>\n",
       "    </tr>\n",
       "    <tr>\n",
       "      <th>64</th>\n",
       "      <td>I'm not working yet</td>\n",
       "      <td>Athena</td>\n",
       "      <td>Athena</td>\n",
       "      <td>6500.0</td>\n",
       "    </tr>\n",
       "    <tr>\n",
       "      <th>76</th>\n",
       "      <td>6-10</td>\n",
       "      <td>Patras</td>\n",
       "      <td>Patras</td>\n",
       "      <td>5000.0</td>\n",
       "    </tr>\n",
       "    <tr>\n",
       "      <th>194</th>\n",
       "      <td>6-10</td>\n",
       "      <td>Athena</td>\n",
       "      <td>Athena</td>\n",
       "      <td>3200.0</td>\n",
       "    </tr>\n",
       "    <tr>\n",
       "      <th>364</th>\n",
       "      <td>I'm not working yet</td>\n",
       "      <td>Thessaloniki</td>\n",
       "      <td>Thessaloniki</td>\n",
       "      <td>4500.0</td>\n",
       "    </tr>\n",
       "  </tbody>\n",
       "</table>\n",
       "</div>"
      ],
      "text/plain": [
       "         YearsExperience      CityLive      CityWork  NetSalary\n",
       "2                    1-3        Athena        Athena     5460.0\n",
       "38                  6-10        London        London     4000.0\n",
       "40                   1-3  Thessaloniki  Thessaloniki     6000.0\n",
       "64   I'm not working yet        Athena        Athena     6500.0\n",
       "76                  6-10        Patras        Patras     5000.0\n",
       "194                 6-10        Athena        Athena     3200.0\n",
       "364  I'm not working yet  Thessaloniki  Thessaloniki     4500.0"
      ]
     },
     "execution_count": 13,
     "metadata": {},
     "output_type": "execute_result"
    }
   ],
   "source": [
    "data_translated.loc[(data_translated.NetSalary > 2000) & (data_translated.NetSalary < 7000), ['YearsExperience', 'CityLive', 'CityWork', 'NetSalary']]"
   ]
  },
  {
   "cell_type": "markdown",
   "metadata": {},
   "source": [
    "This time the histogram includes only `NetSalary` values less than 10000. "
   ]
  },
  {
   "cell_type": "code",
   "execution_count": 14,
   "metadata": {},
   "outputs": [
    {
     "data": {
      "text/plain": [
       "<matplotlib.axes._subplots.AxesSubplot at 0x7f1be3c50fd0>"
      ]
     },
     "execution_count": 14,
     "metadata": {},
     "output_type": "execute_result"
    },
    {
     "data": {
      "image/png": "[encoded data removed]",
      "text/plain": [
       "<Figure size 1080x720 with 1 Axes>"
      ]
     },
     "metadata": {
      "needs_background": "light"
     },
     "output_type": "display_data"
    }
   ],
   "source": [
    "data_translated.NetSalary[data_translated.NetSalary < 10000].plot.hist(figsize=(15,10), bins=75, xticks=[100, 500, 1000, 2000, 5000,10000])"
   ]
  },
  {
   "cell_type": "markdown",
   "metadata": {},
   "source": [
    "The final change performed on the `NetSalary` column is to curate the low values. It is assumed that any values equal or lower than 104 represent thousands of EUR currency. Any values from 105 up until 4000 refer to monthly net salaries. Therefore, the `NetSalary` values were curated according to the following function. Finally, any rows including zero are removed from the DataFrame."
   ]
  },
  {
   "cell_type": "code",
   "execution_count": 15,
   "metadata": {},
   "outputs": [],
   "source": [
    "def fix_net_salary(salary):\n",
    "    if salary <= 104:\n",
    "        return salary * 1000\n",
    "    elif salary <= 4000:\n",
    "        return salary * 14\n",
    "    else:\n",
    "        return salary\n",
    "    \n",
    "data_translated.NetSalary = data_translated.NetSalary.apply(fix_net_salary)\n",
    "\n",
    "data_translated = data_translated[data_translated.NetSalary != 0]"
   ]
  },
  {
   "cell_type": "markdown",
   "metadata": {},
   "source": [
    "This is the final histogram of the `NetSalary` column values."
   ]
  },
  {
   "cell_type": "code",
   "execution_count": 16,
   "metadata": {},
   "outputs": [
    {
     "data": {
      "text/plain": [
       "<matplotlib.axes._subplots.AxesSubplot at 0x7f1be3ae83c8>"
      ]
     },
     "execution_count": 16,
     "metadata": {},
     "output_type": "execute_result"
    },
    {
     "data": {
      "image/png": "[encoded data removed]",
      "text/plain": [
       "<Figure size 1080x720 with 1 Axes>"
      ]
     },
     "metadata": {
      "needs_background": "light"
     },
     "output_type": "display_data"
    }
   ],
   "source": [
    "data_translated.NetSalary.plot.hist(figsize=(15,10), bins=100, xticks=[5000,10000,15000,20000,30000,40000,50000,100000])"
   ]
  },
  {
   "cell_type": "markdown",
   "metadata": {},
   "source": [
    "## `DevelopmentType` & `ProgrammingLanguages` columns"
   ]
  },
  {
   "cell_type": "markdown",
   "metadata": {},
   "source": [
    "The second step is to curate the `DevelopmentType` and `ProgrammingLanguages` columns. Both columns include strings of comma separated values relevant to various software topics and programming languages."
   ]
  },
  {
   "cell_type": "code",
   "execution_count": 17,
   "metadata": {},
   "outputs": [
    {
     "data": {
      "text/html": [
       "<div>\n",
       "<style scoped>\n",
       "    .dataframe tbody tr th:only-of-type {\n",
       "        vertical-align: middle;\n",
       "    }\n",
       "\n",
       "    .dataframe tbody tr th {\n",
       "        vertical-align: top;\n",
       "    }\n",
       "\n",
       "    .dataframe thead th {\n",
       "        text-align: right;\n",
       "    }\n",
       "</style>\n",
       "<table border=\"1\" class=\"dataframe\">\n",
       "  <thead>\n",
       "    <tr style=\"text-align: right;\">\n",
       "      <th></th>\n",
       "      <th>TimeStamp</th>\n",
       "      <th>YearsExperience</th>\n",
       "      <th>DevelopmentType</th>\n",
       "      <th>ProgrammingLanguages</th>\n",
       "      <th>CompanySize</th>\n",
       "      <th>WorkLocation</th>\n",
       "      <th>SuperivisionRole</th>\n",
       "      <th>WorkOutsideMainJob</th>\n",
       "      <th>CityLive</th>\n",
       "      <th>CityWork</th>\n",
       "      <th>Sex</th>\n",
       "      <th>NetSalary</th>\n",
       "    </tr>\n",
       "  </thead>\n",
       "  <tbody>\n",
       "    <tr>\n",
       "      <th>0</th>\n",
       "      <td>7/15/2020 12:03:11</td>\n",
       "      <td>4-5</td>\n",
       "      <td>DevOps, Backend, Frontend</td>\n",
       "      <td>C#, JavaScript</td>\n",
       "      <td>11-50</td>\n",
       "      <td>Both</td>\n",
       "      <td>No</td>\n",
       "      <td>Yes</td>\n",
       "      <td>Athena</td>\n",
       "      <td>Athena</td>\n",
       "      <td>Man</td>\n",
       "      <td>18200.0</td>\n",
       "    </tr>\n",
       "    <tr>\n",
       "      <th>1</th>\n",
       "      <td>7/15/2020 12:03:58</td>\n",
       "      <td>1-3</td>\n",
       "      <td>Backend, Frontend</td>\n",
       "      <td>C#, JavaScript</td>\n",
       "      <td>11-50</td>\n",
       "      <td>At the employer</td>\n",
       "      <td>No</td>\n",
       "      <td>No</td>\n",
       "      <td>Drama</td>\n",
       "      <td>Kavala</td>\n",
       "      <td>Man</td>\n",
       "      <td>13100.0</td>\n",
       "    </tr>\n",
       "    <tr>\n",
       "      <th>2</th>\n",
       "      <td>7/15/2020 12:05:43</td>\n",
       "      <td>1-3</td>\n",
       "      <td>Full Stack Web Developer</td>\n",
       "      <td>C#, JavaScript, PHP</td>\n",
       "      <td>11-50</td>\n",
       "      <td>Both</td>\n",
       "      <td>No</td>\n",
       "      <td>No</td>\n",
       "      <td>Athena</td>\n",
       "      <td>Athena</td>\n",
       "      <td>Man</td>\n",
       "      <td>5460.0</td>\n",
       "    </tr>\n",
       "    <tr>\n",
       "      <th>3</th>\n",
       "      <td>7/15/2020 12:11:37</td>\n",
       "      <td>11+</td>\n",
       "      <td>Backend</td>\n",
       "      <td>Java, C#</td>\n",
       "      <td>11-50</td>\n",
       "      <td>Both</td>\n",
       "      <td>Yes</td>\n",
       "      <td>No</td>\n",
       "      <td>PIRAEUS</td>\n",
       "      <td>PIRAEUS</td>\n",
       "      <td>Man</td>\n",
       "      <td>43500.0</td>\n",
       "    </tr>\n",
       "    <tr>\n",
       "      <th>4</th>\n",
       "      <td>7/15/2020 12:12:45</td>\n",
       "      <td>1-3</td>\n",
       "      <td>Frontend</td>\n",
       "      <td>JavaScript</td>\n",
       "      <td>11-50</td>\n",
       "      <td>Both</td>\n",
       "      <td>No</td>\n",
       "      <td>No</td>\n",
       "      <td>Athena</td>\n",
       "      <td>Athena</td>\n",
       "      <td>Man</td>\n",
       "      <td>16800.0</td>\n",
       "    </tr>\n",
       "  </tbody>\n",
       "</table>\n",
       "</div>"
      ],
      "text/plain": [
       "            TimeStamp YearsExperience            DevelopmentType  \\\n",
       "0  7/15/2020 12:03:11             4-5  DevOps, Backend, Frontend   \n",
       "1  7/15/2020 12:03:58             1-3          Backend, Frontend   \n",
       "2  7/15/2020 12:05:43             1-3   Full Stack Web Developer   \n",
       "3  7/15/2020 12:11:37             11+                    Backend   \n",
       "4  7/15/2020 12:12:45             1-3                   Frontend   \n",
       "\n",
       "  ProgrammingLanguages CompanySize     WorkLocation SuperivisionRole  \\\n",
       "0       C#, JavaScript       11-50             Both               No   \n",
       "1       C#, JavaScript       11-50  At the employer               No   \n",
       "2  C#, JavaScript, PHP       11-50             Both               No   \n",
       "3             Java, C#       11-50             Both              Yes   \n",
       "4           JavaScript       11-50             Both               No   \n",
       "\n",
       "  WorkOutsideMainJob CityLive CityWork  Sex  NetSalary  \n",
       "0                Yes   Athena   Athena  Man    18200.0  \n",
       "1                 No    Drama   Kavala  Man    13100.0  \n",
       "2                 No   Athena   Athena  Man     5460.0  \n",
       "3                 No  PIRAEUS  PIRAEUS  Man    43500.0  \n",
       "4                 No   Athena   Athena  Man    16800.0  "
      ]
     },
     "execution_count": 17,
     "metadata": {},
     "output_type": "execute_result"
    }
   ],
   "source": [
    "data_translated.head()"
   ]
  },
  {
   "cell_type": "markdown",
   "metadata": {},
   "source": [
    "A helper function is defined that creates a dictionary of unique tags found in those columns. Then the dictionaries are curated manually."
   ]
  },
  {
   "cell_type": "code",
   "execution_count": 18,
   "metadata": {},
   "outputs": [],
   "source": [
    "def create_dictionary(column):\n",
    "    unique_description_list = column.str.lower().unique().tolist()\n",
    "    unique_values = set()\n",
    "    for description in unique_description_list:\n",
    "        values = [value.strip() for value in description.split(',')]\n",
    "        unique_values.update(values)\n",
    "    dictionary = {}\n",
    "    for value in unique_values:\n",
    "        dictionary[value] = value\n",
    "    return dictionary"
   ]
  },
  {
   "cell_type": "markdown",
   "metadata": {},
   "source": [
    "Dictionary for `DevelopmentType`."
   ]
  },
  {
   "cell_type": "code",
   "execution_count": 19,
   "metadata": {},
   "outputs": [
    {
     "name": "stdout",
     "output_type": "stream",
     "text": [
      "{'databases': 'databases', 'desktop apps': 'desktop apps', 'devsecop': 'devsecop', 'finance/trading applications': 'finance/trading applications', 'gaming': 'gaming', 'security devop': 'security devop', 'data etls': 'data etls', 'mobile apps': 'mobile apps', 'frontend': 'frontend', 'ai / ml': 'ai / ml', 'drupal': 'drupal', 'rpa developer': 'rpa developer', 'websites': 'websites', 'cybersecurity': 'cybersecurity', 'automation testing': 'automation testing', 'embedded': 'embedded', 'embedded/low-level/systems programming': 'embedded/low-level/systems programming', 'bi': 'bi', 'full stack developer': 'full stack developer', 'mobile robotics': 'mobile robotics', 'backend': 'backend', '+ project managment': '+ project managment', 'business intelligence': 'business intelligence', 'fullstack': 'fullstack', 'full stack web developer': 'full stack web developer', 'magento': 'magento', 'ict': 'ict', 'ui/ux': 'ui/ux', 'devops': 'devops', 'penetration testing': 'penetration testing'}\n"
     ]
    }
   ],
   "source": [
    "development_type_dictionary = create_dictionary(data_translated['DevelopmentType'])\n",
    "\n",
    "print(development_type_dictionary)"
   ]
  },
  {
   "cell_type": "code",
   "execution_count": 20,
   "metadata": {},
   "outputs": [
    {
     "name": "stdout",
     "output_type": "stream",
     "text": [
      "{'databases': 'data', 'desktop apps': 'desktop', 'devsecop': 'security', 'finance/trading applications': 'fullstack', 'gaming': 'gaming', 'security devop': 'security', 'data etls': 'data', 'mobile apps': 'mobile', 'frontend': 'frontend', 'ai / ml': 'ai / ml', 'drupal': 'drupal', 'rpa developer': 'robotics', 'websites': 'frontend', 'cybersecurity': 'security', 'automation testing': 'qa', 'embedded': 'embedded', 'embedded/low-level/systems programming': 'embedded', 'bi': 'bi', 'full stack developer': 'fullstack', 'mobile robotics': 'robotics', 'backend': 'backend', '+ project managment': 'pm', 'business intelligence': 'bi', 'fullstack': 'fullstack', 'full stack web developer': 'fullstack', 'magento': 'magento', 'ict': 'ict', 'ui/ux': 'ui/ux', 'devops': 'devops', 'penetration testing': 'security'}\n"
     ]
    }
   ],
   "source": [
    "development_type_dictionary['full stack developer'] = 'fullstack'\n",
    "development_type_dictionary['full stack web developer'] = 'fullstack'\n",
    "development_type_dictionary['finance/trading applications'] = 'fullstack'\n",
    "development_type_dictionary['desktop apps'] = 'desktop'\n",
    "development_type_dictionary['cybersecurity'] = 'security'\n",
    "development_type_dictionary['security devop'] = 'security'\n",
    "development_type_dictionary['penetration testing'] = 'security'\n",
    "development_type_dictionary['devsecop'] = 'security'\n",
    "development_type_dictionary['security devop'] = 'security'\n",
    "development_type_dictionary['business intelligence'] = 'bi'\n",
    "development_type_dictionary['mobile apps'] = 'mobile'\n",
    "development_type_dictionary['automation testing'] = 'qa'\n",
    "development_type_dictionary['websites'] = 'frontend'\n",
    "development_type_dictionary['data etls'] = 'data'\n",
    "development_type_dictionary['databases'] = 'data'\n",
    "development_type_dictionary['+ project managment'] = 'pm'\n",
    "development_type_dictionary['embedded/low-level/systems programming'] = 'embedded'\n",
    "development_type_dictionary['mobile robotics'] = 'robotics'\n",
    "development_type_dictionary['rpa developer'] = 'robotics'\n",
    "\n",
    "print(development_type_dictionary)"
   ]
  },
  {
   "cell_type": "markdown",
   "metadata": {},
   "source": [
    "Dictionary for `ProgrammingLanguages`."
   ]
  },
  {
   "cell_type": "code",
   "execution_count": 21,
   "metadata": {},
   "outputs": [
    {
     "name": "stdout",
     "output_type": "stream",
     "text": [
      "{'rdml': 'rdml', 'css': 'css', 'javascript': 'javascript', 'elixir': 'elixir', 'node.js': 'node.js', 'clojure': 'clojure', 'pl/sql': 'pl/sql', 'ca gen': 'ca gen', 'c++': 'c++', 'html css js': 'html css js', 'cobol': 'cobol', 'dynamics nav': 'dynamics nav', 'html css wordpress': 'html css wordpress', 'c#': 'c#', 'angular': 'angular', 'tcl': 'tcl', 'r': 'r', 'groovy': 'groovy', 'php': 'php', 'salesforce apex (java)': 'salesforce apex (java)', 'go': 'go', 'bash': 'bash', 'delphi / object pascal': 'delphi / object pascal', 'kotlin': 'kotlin', 'python': 'python', 'vuejs': 'vuejs', 'scala': 'scala', 'assembly': 'assembly', 'c': 'c', 'swift': 'swift', 'perl': 'perl', 'typescript': 'typescript', 'visual basic': 'visual basic', 'avaloq': 'avaloq', 'apex': 'apex', 'html': 'html', 'visual basic .net': 'visual basic .net', 'rust': 'rust', 'java': 'java', 'objective-c': 'objective-c', 'node js': 'node js', 'ruby': 'ruby'}\n"
     ]
    }
   ],
   "source": [
    "program_lang_dictionary = create_dictionary(data_translated['ProgrammingLanguages'])\n",
    "\n",
    "print(program_lang_dictionary)"
   ]
  },
  {
   "cell_type": "code",
   "execution_count": 22,
   "metadata": {},
   "outputs": [
    {
     "name": "stdout",
     "output_type": "stream",
     "text": [
      "{'rdml': 'rdml', 'css': 'css', 'javascript': 'js', 'elixir': 'elixir', 'node.js': 'node', 'clojure': 'clojure', 'pl/sql': 'sql', 'ca gen': 'ca gen', 'c++': 'c++', 'html css js': 'js', 'cobol': 'cobol', 'dynamics nav': 'dynamics nav', 'html css wordpress': 'wordpress', 'c#': 'c#', 'angular': 'angular', 'tcl': 'tcl', 'r': 'r', 'groovy': 'groovy', 'php': 'php', 'salesforce apex (java)': 'apex', 'go': 'go', 'bash': 'bash', 'delphi / object pascal': 'delphi', 'kotlin': 'kotlin', 'python': 'python', 'vuejs': 'vue', 'scala': 'scala', 'assembly': 'assembly', 'c': 'c', 'swift': 'swift', 'perl': 'perl', 'typescript': 'typescript', 'visual basic': 'vb', 'avaloq': 'sql', 'apex': 'apex', 'html': 'html', 'visual basic .net': 'vb', 'rust': 'rust', 'java': 'java', 'objective-c': 'objective-c', 'node js': 'node', 'ruby': 'ruby'}\n"
     ]
    }
   ],
   "source": [
    "program_lang_dictionary['pl/sql'] = 'sql'\n",
    "program_lang_dictionary['visual basic .net'] = 'vb'\n",
    "program_lang_dictionary['javascript'] = 'js'\n",
    "program_lang_dictionary['avaloq'] = 'sql'\n",
    "program_lang_dictionary['salesforce apex (java)'] = 'apex'\n",
    "program_lang_dictionary['node.js'] = 'node'\n",
    "program_lang_dictionary['html css wordpress'] = 'wordpress'\n",
    "program_lang_dictionary['vuejs'] = 'vue'\n",
    "program_lang_dictionary['node js'] = 'node'\n",
    "program_lang_dictionary['visual basic'] = 'vb'\n",
    "program_lang_dictionary['html css js'] = 'js'\n",
    "program_lang_dictionary['delphi / object pascal'] = 'delphi'\n",
    "\n",
    "print(program_lang_dictionary)"
   ]
  },
  {
   "cell_type": "markdown",
   "metadata": {},
   "source": [
    "Then helper functions are defined that assist in the creation of dummy variables (columns) for each unique tag found in the previous steps. The value of that variable is either 1 or 0, denoting the existence or absense of that tag, originally mentioned in the `DevelopmentType` or `ProgrammingLanguages` columns."
   ]
  },
  {
   "cell_type": "code",
   "execution_count": 23,
   "metadata": {},
   "outputs": [],
   "source": [
    "def fix_description(description, dictionary):\n",
    "    fixed_description = [dictionary.get(value.strip()) for value in description.split(',')]\n",
    "    return fixed_description"
   ]
  },
  {
   "cell_type": "code",
   "execution_count": 24,
   "metadata": {},
   "outputs": [],
   "source": [
    "def create_dummy_variables(df, column_name, development_type_dictionary):\n",
    "    \n",
    "    development_type_dictionary = {k: v for k, v in sorted(development_type_dictionary.items(), key=lambda item: item[1])}\n",
    "    \n",
    "    temp_column = df[column_name].str.lower().apply(lambda x: fix_description(x, development_type_dictionary))\n",
    "\n",
    "    for value in list(development_type_dictionary.values()):\n",
    "        df[value] = temp_column.apply(lambda x: 1. if value in x else 0.)"
   ]
  },
  {
   "cell_type": "code",
   "execution_count": 25,
   "metadata": {},
   "outputs": [],
   "source": [
    "create_dummy_variables(data_translated, 'DevelopmentType', development_type_dictionary)\n",
    "create_dummy_variables(data_translated, 'ProgrammingLanguages', program_lang_dictionary)"
   ]
  },
  {
   "cell_type": "markdown",
   "metadata": {},
   "source": [
    "## `CityLive` & `CityWork` columns"
   ]
  },
  {
   "cell_type": "markdown",
   "metadata": {},
   "source": [
    "The third step is to curate the `CityLive` and `CityWork` columns. The available values for both columns are checked."
   ]
  },
  {
   "cell_type": "code",
   "execution_count": 26,
   "metadata": {},
   "outputs": [
    {
     "name": "stdout",
     "output_type": "stream",
     "text": [
      "['Athena' 'Drama' 'Piraeus' 'Heraklion' 'Thessaloniki' 'Rethimno' 'Krakow'\n",
      " 'Limassol' 'Amsterdam' 'Chania' 'Serres' 'London' 'Kozani' 'Leeds'\n",
      " 'Patras' 'Nuremberg' 'Glasgow' 'Berlin' 'Vienna' 'Salamis' 'Madrid'\n",
      " 'Kavala' 'Kalymnos' 'Komotini' 'Eindhoven' 'Cyprus' 'Oxford' 'Volos'\n",
      " 'Kalmar' 'Xanthi' 'Janina' 'Bratislava' 'Cologne' 'Larissa' '-' 'Chios'\n",
      " 'Karlskrona' 'Malmö - Sweden' 'Munich' 'Stockholm' 'Tripoli' 'Lisbon'\n",
      " 'Stuttgart' 'Aigio' 'Dublin/California ' 'I Do Not Have A Specific City'\n",
      " nan 'Leeds, Uk' 'San Francisco' 'Nicosia' 'Larnaca' 'Zurich' 'Miami'\n",
      " 'Cambridge']\n"
     ]
    }
   ],
   "source": [
    "data_translated['CityLive'] = data_translated['CityLive'].str.title()\n",
    "data_translated['CityWork'] = data_translated['CityWork'].str.title()\n",
    "\n",
    "unique_cities = data_translated['CityLive'].append(data_translated['CityWork']).unique()\n",
    "print(unique_cities)"
   ]
  },
  {
   "cell_type": "markdown",
   "metadata": {},
   "source": [
    "After finding out all unique values of those columns, a correction dictionary is created for the curation of any values."
   ]
  },
  {
   "cell_type": "code",
   "execution_count": 27,
   "metadata": {},
   "outputs": [],
   "source": [
    "cities_dictionary = {}\n",
    "cities_dictionary['-'] = None\n",
    "cities_dictionary['Malmö - Sweden'] = 'Malmö'\n",
    "cities_dictionary['Dublin/California '] = 'California'\n",
    "cities_dictionary['I Do Not Have A Specific City'] = None\n",
    "cities_dictionary['Leeds, Uk'] = 'Leeds'\n",
    "\n",
    "data_translated['CityLive'] = data_translated['CityLive'].replace(cities_dictionary).astype('category')\n",
    "data_translated['CityWork'] = data_translated['CityWork'].replace(cities_dictionary).astype('category')"
   ]
  },
  {
   "cell_type": "markdown",
   "metadata": {},
   "source": [
    "## `SuperivisionRole` & `WorkOutsideMainJob` columns"
   ]
  },
  {
   "cell_type": "markdown",
   "metadata": {},
   "source": [
    "The last step is to curate the `SuperivisionRole` and `WorkOutsideMainJob` columns by converting the Yes/No textual values to 1/0 numeric values."
   ]
  },
  {
   "cell_type": "code",
   "execution_count": 28,
   "metadata": {},
   "outputs": [],
   "source": [
    "data_translated['SuperivisionRole'] = data_translated['SuperivisionRole'].replace({'No': 0., 'Yes': 1.})\n",
    "data_translated['WorkOutsideMainJob'] = data_translated['WorkOutsideMainJob'].replace({'No': 0., 'Yes': 1.})"
   ]
  },
  {
   "cell_type": "code",
   "execution_count": 29,
   "metadata": {},
   "outputs": [
    {
     "name": "stdout",
     "output_type": "stream",
     "text": [
      "<class 'pandas.core.frame.DataFrame'>\n",
      "Int64Index: 580 entries, 0 to 584\n",
      "Data columns (total 68 columns):\n",
      " #   Column                Non-Null Count  Dtype   \n",
      "---  ------                --------------  -----   \n",
      " 0   TimeStamp             580 non-null    object  \n",
      " 1   YearsExperience       580 non-null    object  \n",
      " 2   DevelopmentType       580 non-null    object  \n",
      " 3   ProgrammingLanguages  580 non-null    object  \n",
      " 4   CompanySize           580 non-null    object  \n",
      " 5   WorkLocation          580 non-null    object  \n",
      " 6   SuperivisionRole      580 non-null    float64 \n",
      " 7   WorkOutsideMainJob    574 non-null    float64 \n",
      " 8   CityLive              579 non-null    category\n",
      " 9   CityWork              282 non-null    category\n",
      " 10  Sex                   571 non-null    object  \n",
      " 11  NetSalary             580 non-null    float64 \n",
      " 12  ai / ml               580 non-null    float64 \n",
      " 13  backend               580 non-null    float64 \n",
      " 14  bi                    580 non-null    float64 \n",
      " 15  data                  580 non-null    float64 \n",
      " 16  desktop               580 non-null    float64 \n",
      " 17  devops                580 non-null    float64 \n",
      " 18  drupal                580 non-null    float64 \n",
      " 19  embedded              580 non-null    float64 \n",
      " 20  frontend              580 non-null    float64 \n",
      " 21  fullstack             580 non-null    float64 \n",
      " 22  gaming                580 non-null    float64 \n",
      " 23  ict                   580 non-null    float64 \n",
      " 24  magento               580 non-null    float64 \n",
      " 25  mobile                580 non-null    float64 \n",
      " 26  pm                    580 non-null    float64 \n",
      " 27  qa                    580 non-null    float64 \n",
      " 28  robotics              580 non-null    float64 \n",
      " 29  security              580 non-null    float64 \n",
      " 30  ui/ux                 580 non-null    float64 \n",
      " 31  angular               580 non-null    float64 \n",
      " 32  apex                  580 non-null    float64 \n",
      " 33  assembly              580 non-null    float64 \n",
      " 34  bash                  580 non-null    float64 \n",
      " 35  c                     580 non-null    float64 \n",
      " 36  c#                    580 non-null    float64 \n",
      " 37  c++                   580 non-null    float64 \n",
      " 38  ca gen                580 non-null    float64 \n",
      " 39  clojure               580 non-null    float64 \n",
      " 40  cobol                 580 non-null    float64 \n",
      " 41  css                   580 non-null    float64 \n",
      " 42  delphi                580 non-null    float64 \n",
      " 43  dynamics nav          580 non-null    float64 \n",
      " 44  elixir                580 non-null    float64 \n",
      " 45  go                    580 non-null    float64 \n",
      " 46  groovy                580 non-null    float64 \n",
      " 47  html                  580 non-null    float64 \n",
      " 48  java                  580 non-null    float64 \n",
      " 49  js                    580 non-null    float64 \n",
      " 50  kotlin                580 non-null    float64 \n",
      " 51  node                  580 non-null    float64 \n",
      " 52  objective-c           580 non-null    float64 \n",
      " 53  perl                  580 non-null    float64 \n",
      " 54  php                   580 non-null    float64 \n",
      " 55  python                580 non-null    float64 \n",
      " 56  r                     580 non-null    float64 \n",
      " 57  rdml                  580 non-null    float64 \n",
      " 58  ruby                  580 non-null    float64 \n",
      " 59  rust                  580 non-null    float64 \n",
      " 60  scala                 580 non-null    float64 \n",
      " 61  sql                   580 non-null    float64 \n",
      " 62  swift                 580 non-null    float64 \n",
      " 63  tcl                   580 non-null    float64 \n",
      " 64  typescript            580 non-null    float64 \n",
      " 65  vb                    580 non-null    float64 \n",
      " 66  vue                   580 non-null    float64 \n",
      " 67  wordpress             580 non-null    float64 \n",
      "dtypes: category(2), float64(59), object(7)\n",
      "memory usage: 307.8+ KB\n"
     ]
    }
   ],
   "source": [
    "data_translated.info()"
   ]
  },
  {
   "cell_type": "markdown",
   "metadata": {},
   "source": [
    "## Save Data"
   ]
  },
  {
   "cell_type": "code",
   "execution_count": 30,
   "metadata": {},
   "outputs": [],
   "source": [
    "data_dir = 'data'\n",
    "if not os.path.exists(data_dir):\n",
    "    os.makedirs(data_dir)\n",
    "\n",
    "output_file = 'data_curated.csv'\n",
    "data_translated.to_csv(os.path.join(data_dir, output_file), index=False)"
   ]
  },
  {
   "cell_type": "code",
   "execution_count": null,
   "metadata": {},
   "outputs": [],
   "source": []
  }
 ],
 "metadata": {
  "kernelspec": {
   "display_name": "conda_python3",
   "language": "python",
   "name": "conda_python3"
  },
  "language_info": {
   "codemirror_mode": {
    "name": "ipython",
    "version": 3
   },
   "file_extension": ".py",
   "mimetype": "text/x-python",
   "name": "python",
   "nbconvert_exporter": "python",
   "pygments_lexer": "ipython3",
   "version": "3.6.10"
  }
 },
 "nbformat": 4,
 "nbformat_minor": 4
}
