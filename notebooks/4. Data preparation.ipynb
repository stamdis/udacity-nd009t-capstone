{
 "cells": [
  {
   "cell_type": "markdown",
   "metadata": {},
   "source": [
    "# Data preparation"
   ]
  },
  {
   "cell_type": "markdown",
   "metadata": {},
   "source": [
    "After data translation and data curation, the dataset needs to be prepared for model creation. In previous steps we noticed that the dataset is not ready to be processed due to various reasons.\n",
    "\n",
    "The scope of this notebook is to eliminate any missing values, create any remaining dummy variables and drop features (columns) that won't be used."
   ]
  },
  {
   "cell_type": "markdown",
   "metadata": {},
   "source": [
    "## Load data"
   ]
  },
  {
   "cell_type": "code",
   "execution_count": 1,
   "metadata": {},
   "outputs": [],
   "source": [
    "import pandas as pd\n",
    "import os"
   ]
  },
  {
   "cell_type": "code",
   "execution_count": 2,
   "metadata": {},
   "outputs": [
    {
     "name": "stdout",
     "output_type": "stream",
     "text": [
      "<class 'pandas.core.frame.DataFrame'>\n",
      "RangeIndex: 580 entries, 0 to 579\n",
      "Data columns (total 68 columns):\n",
      " #   Column                Non-Null Count  Dtype  \n",
      "---  ------                --------------  -----  \n",
      " 0   TimeStamp             580 non-null    object \n",
      " 1   YearsExperience       580 non-null    object \n",
      " 2   DevelopmentType       580 non-null    object \n",
      " 3   ProgrammingLanguages  580 non-null    object \n",
      " 4   CompanySize           580 non-null    object \n",
      " 5   WorkLocation          580 non-null    object \n",
      " 6   SuperivisionRole      580 non-null    float64\n",
      " 7   WorkOutsideMainJob    574 non-null    float64\n",
      " 8   CityLive              579 non-null    object \n",
      " 9   CityWork              282 non-null    object \n",
      " 10  Sex                   571 non-null    object \n",
      " 11  NetSalary             580 non-null    float64\n",
      " 12  ai / ml               580 non-null    float64\n",
      " 13  backend               580 non-null    float64\n",
      " 14  bi                    580 non-null    float64\n",
      " 15  data                  580 non-null    float64\n",
      " 16  desktop               580 non-null    float64\n",
      " 17  devops                580 non-null    float64\n",
      " 18  drupal                580 non-null    float64\n",
      " 19  embedded              580 non-null    float64\n",
      " 20  frontend              580 non-null    float64\n",
      " 21  fullstack             580 non-null    float64\n",
      " 22  gaming                580 non-null    float64\n",
      " 23  ict                   580 non-null    float64\n",
      " 24  magento               580 non-null    float64\n",
      " 25  mobile                580 non-null    float64\n",
      " 26  pm                    580 non-null    float64\n",
      " 27  qa                    580 non-null    float64\n",
      " 28  robotics              580 non-null    float64\n",
      " 29  security              580 non-null    float64\n",
      " 30  ui/ux                 580 non-null    float64\n",
      " 31  angular               580 non-null    float64\n",
      " 32  apex                  580 non-null    float64\n",
      " 33  assembly              580 non-null    float64\n",
      " 34  bash                  580 non-null    float64\n",
      " 35  c                     580 non-null    float64\n",
      " 36  c#                    580 non-null    float64\n",
      " 37  c++                   580 non-null    float64\n",
      " 38  ca gen                580 non-null    float64\n",
      " 39  clojure               580 non-null    float64\n",
      " 40  cobol                 580 non-null    float64\n",
      " 41  css                   580 non-null    float64\n",
      " 42  delphi                580 non-null    float64\n",
      " 43  dynamics nav          580 non-null    float64\n",
      " 44  elixir                580 non-null    float64\n",
      " 45  go                    580 non-null    float64\n",
      " 46  groovy                580 non-null    float64\n",
      " 47  html                  580 non-null    float64\n",
      " 48  java                  580 non-null    float64\n",
      " 49  js                    580 non-null    float64\n",
      " 50  kotlin                580 non-null    float64\n",
      " 51  node                  580 non-null    float64\n",
      " 52  objective-c           580 non-null    float64\n",
      " 53  perl                  580 non-null    float64\n",
      " 54  php                   580 non-null    float64\n",
      " 55  python                580 non-null    float64\n",
      " 56  r                     580 non-null    float64\n",
      " 57  rdml                  580 non-null    float64\n",
      " 58  ruby                  580 non-null    float64\n",
      " 59  rust                  580 non-null    float64\n",
      " 60  scala                 580 non-null    float64\n",
      " 61  sql                   580 non-null    float64\n",
      " 62  swift                 580 non-null    float64\n",
      " 63  tcl                   580 non-null    float64\n",
      " 64  typescript            580 non-null    float64\n",
      " 65  vb                    580 non-null    float64\n",
      " 66  vue                   580 non-null    float64\n",
      " 67  wordpress             580 non-null    float64\n",
      "dtypes: float64(59), object(9)\n",
      "memory usage: 308.2+ KB\n"
     ]
    }
   ],
   "source": [
    "input_file_path = 'data/data_curated.csv'\n",
    "data_curated = pd.read_csv(input_file_path)\n",
    "\n",
    "data_curated.info()"
   ]
  },
  {
   "cell_type": "markdown",
   "metadata": {},
   "source": [
    "We should focus on columns that have an `object` Dtype. Those are `TimeStamp`, `YearsExperience`, `DevelopmentType`, `ProgrammingLanguages`, `CompanySize`, `WorkLocation`, `CityLive`, `CityWork` and `Sex`."
   ]
  },
  {
   "cell_type": "markdown",
   "metadata": {},
   "source": [
    "## Fill missing values"
   ]
  },
  {
   "cell_type": "markdown",
   "metadata": {},
   "source": [
    "We see that the `WorkOutsideMainJob` column has 6 missing values."
   ]
  },
  {
   "cell_type": "code",
   "execution_count": 3,
   "metadata": {},
   "outputs": [
    {
     "data": {
      "text/plain": [
       "0.0    394\n",
       "1.0    180\n",
       "NaN      6\n",
       "Name: WorkOutsideMainJob, dtype: int64"
      ]
     },
     "execution_count": 3,
     "metadata": {},
     "output_type": "execute_result"
    }
   ],
   "source": [
    "data_curated.WorkOutsideMainJob.astype('category').value_counts(dropna=False)"
   ]
  },
  {
   "cell_type": "markdown",
   "metadata": {},
   "source": [
    "We replace the missing values by assing a negative semantic value (zero). We interpret the absense of an answer as negation."
   ]
  },
  {
   "cell_type": "code",
   "execution_count": 4,
   "metadata": {},
   "outputs": [],
   "source": [
    "data_curated.WorkOutsideMainJob = data_curated.WorkOutsideMainJob.fillna(0.)"
   ]
  },
  {
   "cell_type": "markdown",
   "metadata": {},
   "source": [
    "The `CityLive` value contains only 1 missing value."
   ]
  },
  {
   "cell_type": "code",
   "execution_count": 5,
   "metadata": {},
   "outputs": [
    {
     "data": {
      "text/plain": [
       "Athena          446\n",
       "Thessaloniki     53\n",
       "Heraklion        11\n",
       "Patras            8\n",
       "Amsterdam         7\n",
       "Janina            6\n",
       "Serres            5\n",
       "London            4\n",
       "Berlin            4\n",
       "Bratislava        2\n",
       "Kavala            2\n",
       "Kozani            2\n",
       "Salamis           2\n",
       "Cyprus            1\n",
       "Drama             1\n",
       "Chania            1\n",
       "Glasgow           1\n",
       "Cologne           1\n",
       "Chios             1\n",
       "Kalmar            1\n",
       "Kalymnos          1\n",
       "Karlskrona        1\n",
       "Eindhoven         1\n",
       "NaN               1\n",
       "Komotini          1\n",
       "Oxford            1\n",
       "Volos             1\n",
       "Vienna            1\n",
       "Tripoli           1\n",
       "Stockholm         1\n",
       "Rethimno          1\n",
       "Piraeus           1\n",
       "Nuremberg         1\n",
       "Krakow            1\n",
       "Munich            1\n",
       "Malmö             1\n",
       "Madrid            1\n",
       "Limassol          1\n",
       "Leeds             1\n",
       "Xanthi            1\n",
       "Larissa           1\n",
       "Name: CityLive, dtype: int64"
      ]
     },
     "execution_count": 5,
     "metadata": {},
     "output_type": "execute_result"
    }
   ],
   "source": [
    "data_curated.CityLive.astype('category').value_counts(dropna=False)"
   ]
  },
  {
   "cell_type": "markdown",
   "metadata": {},
   "source": [
    "We examine the specific row."
   ]
  },
  {
   "cell_type": "code",
   "execution_count": 6,
   "metadata": {},
   "outputs": [
    {
     "data": {
      "text/html": [
       "<div>\n",
       "<style scoped>\n",
       "    .dataframe tbody tr th:only-of-type {\n",
       "        vertical-align: middle;\n",
       "    }\n",
       "\n",
       "    .dataframe tbody tr th {\n",
       "        vertical-align: top;\n",
       "    }\n",
       "\n",
       "    .dataframe thead th {\n",
       "        text-align: right;\n",
       "    }\n",
       "</style>\n",
       "<table border=\"1\" class=\"dataframe\">\n",
       "  <thead>\n",
       "    <tr style=\"text-align: right;\">\n",
       "      <th></th>\n",
       "      <th>TimeStamp</th>\n",
       "      <th>YearsExperience</th>\n",
       "      <th>DevelopmentType</th>\n",
       "      <th>ProgrammingLanguages</th>\n",
       "      <th>CompanySize</th>\n",
       "      <th>WorkLocation</th>\n",
       "      <th>SuperivisionRole</th>\n",
       "      <th>WorkOutsideMainJob</th>\n",
       "      <th>CityLive</th>\n",
       "      <th>CityWork</th>\n",
       "      <th>...</th>\n",
       "      <th>ruby</th>\n",
       "      <th>rust</th>\n",
       "      <th>scala</th>\n",
       "      <th>sql</th>\n",
       "      <th>swift</th>\n",
       "      <th>tcl</th>\n",
       "      <th>typescript</th>\n",
       "      <th>vb</th>\n",
       "      <th>vue</th>\n",
       "      <th>wordpress</th>\n",
       "    </tr>\n",
       "  </thead>\n",
       "  <tbody>\n",
       "    <tr>\n",
       "      <th>200</th>\n",
       "      <td>7/22/2020 23:58:21</td>\n",
       "      <td>11+</td>\n",
       "      <td>Backend, Frontend</td>\n",
       "      <td>JavaScript</td>\n",
       "      <td>51-100</td>\n",
       "      <td>Remote</td>\n",
       "      <td>0.0</td>\n",
       "      <td>0.0</td>\n",
       "      <td>NaN</td>\n",
       "      <td>NaN</td>\n",
       "      <td>...</td>\n",
       "      <td>0.0</td>\n",
       "      <td>0.0</td>\n",
       "      <td>0.0</td>\n",
       "      <td>0.0</td>\n",
       "      <td>0.0</td>\n",
       "      <td>0.0</td>\n",
       "      <td>0.0</td>\n",
       "      <td>0.0</td>\n",
       "      <td>0.0</td>\n",
       "      <td>0.0</td>\n",
       "    </tr>\n",
       "  </tbody>\n",
       "</table>\n",
       "<p>1 rows × 68 columns</p>\n",
       "</div>"
      ],
      "text/plain": [
       "              TimeStamp YearsExperience    DevelopmentType  \\\n",
       "200  7/22/2020 23:58:21             11+  Backend, Frontend   \n",
       "\n",
       "    ProgrammingLanguages CompanySize WorkLocation  SuperivisionRole  \\\n",
       "200           JavaScript      51-100       Remote               0.0   \n",
       "\n",
       "     WorkOutsideMainJob CityLive CityWork  ... ruby  rust  scala  sql  swift  \\\n",
       "200                 0.0      NaN      NaN  ...  0.0   0.0    0.0  0.0    0.0   \n",
       "\n",
       "     tcl  typescript   vb  vue  wordpress  \n",
       "200  0.0         0.0  0.0  0.0        0.0  \n",
       "\n",
       "[1 rows x 68 columns]"
      ]
     },
     "execution_count": 6,
     "metadata": {},
     "output_type": "execute_result"
    }
   ],
   "source": [
    "data_curated[data_curated.CityLive.isna()]"
   ]
  },
  {
   "cell_type": "code",
   "execution_count": 7,
   "metadata": {},
   "outputs": [
    {
     "data": {
      "text/plain": [
       "200    104000.0\n",
       "Name: NetSalary, dtype: float64"
      ]
     },
     "execution_count": 7,
     "metadata": {},
     "output_type": "execute_result"
    }
   ],
   "source": [
    "data_curated[data_curated.CityLive.isna()].NetSalary"
   ]
  },
  {
   "cell_type": "markdown",
   "metadata": {},
   "source": [
    "The case can be considered as an outlier & since it does not contain a lot of information it is dropped."
   ]
  },
  {
   "cell_type": "code",
   "execution_count": 8,
   "metadata": {},
   "outputs": [],
   "source": [
    "data_curated = data_curated.drop(200)"
   ]
  },
  {
   "cell_type": "markdown",
   "metadata": {},
   "source": [
    "## Create dummy variables"
   ]
  },
  {
   "cell_type": "markdown",
   "metadata": {},
   "source": [
    "Since the columns `YearsExperience`, `CompanySize`, `WorkLocation` amd `CityLive` can be considered as categorical variables, they should be converted to dummy variables."
   ]
  },
  {
   "cell_type": "code",
   "execution_count": 9,
   "metadata": {},
   "outputs": [],
   "source": [
    "data_curated = pd.get_dummies(data_curated,columns=['YearsExperience'])\n",
    "data_curated = pd.get_dummies(data_curated,columns=['CompanySize'])\n",
    "data_curated = pd.get_dummies(data_curated,columns=['WorkLocation'])\n",
    "data_curated = pd.get_dummies(data_curated,columns=['CityLive'])"
   ]
  },
  {
   "cell_type": "markdown",
   "metadata": {},
   "source": [
    "## Drop variables"
   ]
  },
  {
   "cell_type": "markdown",
   "metadata": {},
   "source": [
    "In the last step, it is decided that the following columns should be dropped. `TimeStamp` does not offer any useful information. The `DevelopmentType` and `ProgrammingLanguages` columns were converted into dummy variables in a previous step. `CityWork` contains too many missing values. Finally, `Sex` is dropped due to its uneven distribution. This might introduce bias against women/females."
   ]
  },
  {
   "cell_type": "code",
   "execution_count": 10,
   "metadata": {},
   "outputs": [],
   "source": [
    "data_curated = data_curated.drop(labels=['TimeStamp','DevelopmentType','ProgrammingLanguages','CityWork','Sex'], axis=1)"
   ]
  },
  {
   "cell_type": "markdown",
   "metadata": {},
   "source": [
    "The final list of columns is printed below."
   ]
  },
  {
   "cell_type": "code",
   "execution_count": 11,
   "metadata": {},
   "outputs": [
    {
     "name": "stdout",
     "output_type": "stream",
     "text": [
      "<class 'pandas.core.frame.DataFrame'>\n",
      "Int64Index: 579 entries, 0 to 579\n",
      "Data columns (total 113 columns):\n",
      " #   Column                               Non-Null Count  Dtype  \n",
      "---  ------                               --------------  -----  \n",
      " 0   SuperivisionRole                     579 non-null    float64\n",
      " 1   WorkOutsideMainJob                   579 non-null    float64\n",
      " 2   NetSalary                            579 non-null    float64\n",
      " 3   ai / ml                              579 non-null    float64\n",
      " 4   backend                              579 non-null    float64\n",
      " 5   bi                                   579 non-null    float64\n",
      " 6   data                                 579 non-null    float64\n",
      " 7   desktop                              579 non-null    float64\n",
      " 8   devops                               579 non-null    float64\n",
      " 9   drupal                               579 non-null    float64\n",
      " 10  embedded                             579 non-null    float64\n",
      " 11  frontend                             579 non-null    float64\n",
      " 12  fullstack                            579 non-null    float64\n",
      " 13  gaming                               579 non-null    float64\n",
      " 14  ict                                  579 non-null    float64\n",
      " 15  magento                              579 non-null    float64\n",
      " 16  mobile                               579 non-null    float64\n",
      " 17  pm                                   579 non-null    float64\n",
      " 18  qa                                   579 non-null    float64\n",
      " 19  robotics                             579 non-null    float64\n",
      " 20  security                             579 non-null    float64\n",
      " 21  ui/ux                                579 non-null    float64\n",
      " 22  angular                              579 non-null    float64\n",
      " 23  apex                                 579 non-null    float64\n",
      " 24  assembly                             579 non-null    float64\n",
      " 25  bash                                 579 non-null    float64\n",
      " 26  c                                    579 non-null    float64\n",
      " 27  c#                                   579 non-null    float64\n",
      " 28  c++                                  579 non-null    float64\n",
      " 29  ca gen                               579 non-null    float64\n",
      " 30  clojure                              579 non-null    float64\n",
      " 31  cobol                                579 non-null    float64\n",
      " 32  css                                  579 non-null    float64\n",
      " 33  delphi                               579 non-null    float64\n",
      " 34  dynamics nav                         579 non-null    float64\n",
      " 35  elixir                               579 non-null    float64\n",
      " 36  go                                   579 non-null    float64\n",
      " 37  groovy                               579 non-null    float64\n",
      " 38  html                                 579 non-null    float64\n",
      " 39  java                                 579 non-null    float64\n",
      " 40  js                                   579 non-null    float64\n",
      " 41  kotlin                               579 non-null    float64\n",
      " 42  node                                 579 non-null    float64\n",
      " 43  objective-c                          579 non-null    float64\n",
      " 44  perl                                 579 non-null    float64\n",
      " 45  php                                  579 non-null    float64\n",
      " 46  python                               579 non-null    float64\n",
      " 47  r                                    579 non-null    float64\n",
      " 48  rdml                                 579 non-null    float64\n",
      " 49  ruby                                 579 non-null    float64\n",
      " 50  rust                                 579 non-null    float64\n",
      " 51  scala                                579 non-null    float64\n",
      " 52  sql                                  579 non-null    float64\n",
      " 53  swift                                579 non-null    float64\n",
      " 54  tcl                                  579 non-null    float64\n",
      " 55  typescript                           579 non-null    float64\n",
      " 56  vb                                   579 non-null    float64\n",
      " 57  vue                                  579 non-null    float64\n",
      " 58  wordpress                            579 non-null    float64\n",
      " 59  YearsExperience_1-3                  579 non-null    uint8  \n",
      " 60  YearsExperience_11+                  579 non-null    uint8  \n",
      " 61  YearsExperience_4-5                  579 non-null    uint8  \n",
      " 62  YearsExperience_6-10                 579 non-null    uint8  \n",
      " 63  YearsExperience_I'm not working yet  579 non-null    uint8  \n",
      " 64  CompanySize_101-200                  579 non-null    uint8  \n",
      " 65  CompanySize_11-50                    579 non-null    uint8  \n",
      " 66  CompanySize_201-500                  579 non-null    uint8  \n",
      " 67  CompanySize_501+                     579 non-null    uint8  \n",
      " 68  CompanySize_51-100                   579 non-null    uint8  \n",
      " 69  CompanySize_<10                      579 non-null    uint8  \n",
      " 70  WorkLocation_At the employer         579 non-null    uint8  \n",
      " 71  WorkLocation_Both                    579 non-null    uint8  \n",
      " 72  WorkLocation_Remote                  579 non-null    uint8  \n",
      " 73  CityLive_Amsterdam                   579 non-null    uint8  \n",
      " 74  CityLive_Athena                      579 non-null    uint8  \n",
      " 75  CityLive_Berlin                      579 non-null    uint8  \n",
      " 76  CityLive_Bratislava                  579 non-null    uint8  \n",
      " 77  CityLive_Chania                      579 non-null    uint8  \n",
      " 78  CityLive_Chios                       579 non-null    uint8  \n",
      " 79  CityLive_Cologne                     579 non-null    uint8  \n",
      " 80  CityLive_Cyprus                      579 non-null    uint8  \n",
      " 81  CityLive_Drama                       579 non-null    uint8  \n",
      " 82  CityLive_Eindhoven                   579 non-null    uint8  \n",
      " 83  CityLive_Glasgow                     579 non-null    uint8  \n",
      " 84  CityLive_Heraklion                   579 non-null    uint8  \n",
      " 85  CityLive_Janina                      579 non-null    uint8  \n",
      " 86  CityLive_Kalmar                      579 non-null    uint8  \n",
      " 87  CityLive_Kalymnos                    579 non-null    uint8  \n",
      " 88  CityLive_Karlskrona                  579 non-null    uint8  \n",
      " 89  CityLive_Kavala                      579 non-null    uint8  \n",
      " 90  CityLive_Komotini                    579 non-null    uint8  \n",
      " 91  CityLive_Kozani                      579 non-null    uint8  \n",
      " 92  CityLive_Krakow                      579 non-null    uint8  \n",
      " 93  CityLive_Larissa                     579 non-null    uint8  \n",
      " 94  CityLive_Leeds                       579 non-null    uint8  \n",
      " 95  CityLive_Limassol                    579 non-null    uint8  \n",
      " 96  CityLive_London                      579 non-null    uint8  \n",
      " 97  CityLive_Madrid                      579 non-null    uint8  \n",
      " 98  CityLive_Malmö                       579 non-null    uint8  \n",
      " 99  CityLive_Munich                      579 non-null    uint8  \n",
      " 100 CityLive_Nuremberg                   579 non-null    uint8  \n",
      " 101 CityLive_Oxford                      579 non-null    uint8  \n",
      " 102 CityLive_Patras                      579 non-null    uint8  \n",
      " 103 CityLive_Piraeus                     579 non-null    uint8  \n",
      " 104 CityLive_Rethimno                    579 non-null    uint8  \n",
      " 105 CityLive_Salamis                     579 non-null    uint8  \n",
      " 106 CityLive_Serres                      579 non-null    uint8  \n",
      " 107 CityLive_Stockholm                   579 non-null    uint8  \n",
      " 108 CityLive_Thessaloniki                579 non-null    uint8  \n",
      " 109 CityLive_Tripoli                     579 non-null    uint8  \n",
      " 110 CityLive_Vienna                      579 non-null    uint8  \n",
      " 111 CityLive_Volos                       579 non-null    uint8  \n",
      " 112 CityLive_Xanthi                      579 non-null    uint8  \n",
      "dtypes: float64(59), uint8(54)\n",
      "memory usage: 301.9 KB\n"
     ]
    }
   ],
   "source": [
    "data_curated.info(verbose=True, null_counts=True)"
   ]
  },
  {
   "cell_type": "markdown",
   "metadata": {},
   "source": [
    "## Save data"
   ]
  },
  {
   "cell_type": "code",
   "execution_count": 12,
   "metadata": {},
   "outputs": [],
   "source": [
    "data_dir = 'data'\n",
    "if not os.path.exists(data_dir):\n",
    "    os.makedirs(data_dir)\n",
    "\n",
    "output_file = 'data_ready.csv'\n",
    "data_curated.to_csv(os.path.join(data_dir, output_file), index=False)"
   ]
  },
  {
   "cell_type": "code",
   "execution_count": null,
   "metadata": {},
   "outputs": [],
   "source": []
  }
 ],
 "metadata": {
  "kernelspec": {
   "display_name": "conda_python3",
   "language": "python",
   "name": "conda_python3"
  },
  "language_info": {
   "codemirror_mode": {
    "name": "ipython",
    "version": 3
   },
   "file_extension": ".py",
   "mimetype": "text/x-python",
   "name": "python",
   "nbconvert_exporter": "python",
   "pygments_lexer": "ipython3",
   "version": "3.6.10"
  }
 },
 "nbformat": 4,
 "nbformat_minor": 4
}
