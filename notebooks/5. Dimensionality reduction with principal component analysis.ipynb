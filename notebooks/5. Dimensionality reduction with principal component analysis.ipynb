{
 "cells": [
  {
   "cell_type": "markdown",
   "metadata": {},
   "source": [
    "# Dimensionality reduction with principal component analysis"
   ]
  },
  {
   "cell_type": "markdown",
   "metadata": {},
   "source": [
    "In previous steps we managed to prepare the original data for model creation. The ready dataset includes 112 columns.\n",
    "\n",
    "The scope of this notebook is to use principal component analysis (PCA) in order to reduce the dimensionality of the original data. PCA attempts to reduce the number of features within a dataset while retaining the “principal components”, which are defined as weighted, linear combinations of existing features that are designed to be linearly independent and account for the largest possible variability in the data."
   ]
  },
  {
   "cell_type": "code",
   "execution_count": 1,
   "metadata": {},
   "outputs": [],
   "source": [
    "import pandas as pd\n",
    "import numpy as np\n",
    "import os\n",
    "import sagemaker\n",
    "from sagemaker import get_execution_role, PCA\n",
    "import boto3\n",
    "import mxnet as mx\n",
    "import seaborn as sns\n",
    "import matplotlib.pyplot as plt\n",
    "import matplotlib"
   ]
  },
  {
   "cell_type": "markdown",
   "metadata": {},
   "source": [
    "## Load data"
   ]
  },
  {
   "cell_type": "code",
   "execution_count": 2,
   "metadata": {},
   "outputs": [],
   "source": [
    "input_file_path = 'data/data_ready.csv'\n",
    "data_ready = pd.read_csv(input_file_path)"
   ]
  },
  {
   "cell_type": "markdown",
   "metadata": {},
   "source": [
    "The DataFrame is converted to the needed type. Moreover, we isolate the dependent variables by excluding the dependent/target variable `NetSalary`."
   ]
  },
  {
   "cell_type": "code",
   "execution_count": 3,
   "metadata": {},
   "outputs": [
    {
     "data": {
      "text/html": [
       "<div>\n",
       "<style scoped>\n",
       "    .dataframe tbody tr th:only-of-type {\n",
       "        vertical-align: middle;\n",
       "    }\n",
       "\n",
       "    .dataframe tbody tr th {\n",
       "        vertical-align: top;\n",
       "    }\n",
       "\n",
       "    .dataframe thead th {\n",
       "        text-align: right;\n",
       "    }\n",
       "</style>\n",
       "<table border=\"1\" class=\"dataframe\">\n",
       "  <thead>\n",
       "    <tr style=\"text-align: right;\">\n",
       "      <th></th>\n",
       "      <th>SuperivisionRole</th>\n",
       "      <th>WorkOutsideMainJob</th>\n",
       "      <th>ai / ml</th>\n",
       "      <th>backend</th>\n",
       "      <th>bi</th>\n",
       "      <th>data</th>\n",
       "      <th>desktop</th>\n",
       "      <th>devops</th>\n",
       "      <th>drupal</th>\n",
       "      <th>embedded</th>\n",
       "      <th>...</th>\n",
       "      <th>CityLive_Piraeus</th>\n",
       "      <th>CityLive_Rethimno</th>\n",
       "      <th>CityLive_Salamis</th>\n",
       "      <th>CityLive_Serres</th>\n",
       "      <th>CityLive_Stockholm</th>\n",
       "      <th>CityLive_Thessaloniki</th>\n",
       "      <th>CityLive_Tripoli</th>\n",
       "      <th>CityLive_Vienna</th>\n",
       "      <th>CityLive_Volos</th>\n",
       "      <th>CityLive_Xanthi</th>\n",
       "    </tr>\n",
       "  </thead>\n",
       "  <tbody>\n",
       "    <tr>\n",
       "      <th>0</th>\n",
       "      <td>0.0</td>\n",
       "      <td>1.0</td>\n",
       "      <td>0.0</td>\n",
       "      <td>1.0</td>\n",
       "      <td>0.0</td>\n",
       "      <td>0.0</td>\n",
       "      <td>0.0</td>\n",
       "      <td>1.0</td>\n",
       "      <td>0.0</td>\n",
       "      <td>0.0</td>\n",
       "      <td>...</td>\n",
       "      <td>0.0</td>\n",
       "      <td>0.0</td>\n",
       "      <td>0.0</td>\n",
       "      <td>0.0</td>\n",
       "      <td>0.0</td>\n",
       "      <td>0.0</td>\n",
       "      <td>0.0</td>\n",
       "      <td>0.0</td>\n",
       "      <td>0.0</td>\n",
       "      <td>0.0</td>\n",
       "    </tr>\n",
       "    <tr>\n",
       "      <th>1</th>\n",
       "      <td>0.0</td>\n",
       "      <td>0.0</td>\n",
       "      <td>0.0</td>\n",
       "      <td>1.0</td>\n",
       "      <td>0.0</td>\n",
       "      <td>0.0</td>\n",
       "      <td>0.0</td>\n",
       "      <td>0.0</td>\n",
       "      <td>0.0</td>\n",
       "      <td>0.0</td>\n",
       "      <td>...</td>\n",
       "      <td>0.0</td>\n",
       "      <td>0.0</td>\n",
       "      <td>0.0</td>\n",
       "      <td>0.0</td>\n",
       "      <td>0.0</td>\n",
       "      <td>0.0</td>\n",
       "      <td>0.0</td>\n",
       "      <td>0.0</td>\n",
       "      <td>0.0</td>\n",
       "      <td>0.0</td>\n",
       "    </tr>\n",
       "    <tr>\n",
       "      <th>2</th>\n",
       "      <td>0.0</td>\n",
       "      <td>0.0</td>\n",
       "      <td>0.0</td>\n",
       "      <td>0.0</td>\n",
       "      <td>0.0</td>\n",
       "      <td>0.0</td>\n",
       "      <td>0.0</td>\n",
       "      <td>0.0</td>\n",
       "      <td>0.0</td>\n",
       "      <td>0.0</td>\n",
       "      <td>...</td>\n",
       "      <td>0.0</td>\n",
       "      <td>0.0</td>\n",
       "      <td>0.0</td>\n",
       "      <td>0.0</td>\n",
       "      <td>0.0</td>\n",
       "      <td>0.0</td>\n",
       "      <td>0.0</td>\n",
       "      <td>0.0</td>\n",
       "      <td>0.0</td>\n",
       "      <td>0.0</td>\n",
       "    </tr>\n",
       "    <tr>\n",
       "      <th>3</th>\n",
       "      <td>1.0</td>\n",
       "      <td>0.0</td>\n",
       "      <td>0.0</td>\n",
       "      <td>1.0</td>\n",
       "      <td>0.0</td>\n",
       "      <td>0.0</td>\n",
       "      <td>0.0</td>\n",
       "      <td>0.0</td>\n",
       "      <td>0.0</td>\n",
       "      <td>0.0</td>\n",
       "      <td>...</td>\n",
       "      <td>1.0</td>\n",
       "      <td>0.0</td>\n",
       "      <td>0.0</td>\n",
       "      <td>0.0</td>\n",
       "      <td>0.0</td>\n",
       "      <td>0.0</td>\n",
       "      <td>0.0</td>\n",
       "      <td>0.0</td>\n",
       "      <td>0.0</td>\n",
       "      <td>0.0</td>\n",
       "    </tr>\n",
       "    <tr>\n",
       "      <th>4</th>\n",
       "      <td>0.0</td>\n",
       "      <td>0.0</td>\n",
       "      <td>0.0</td>\n",
       "      <td>0.0</td>\n",
       "      <td>0.0</td>\n",
       "      <td>0.0</td>\n",
       "      <td>0.0</td>\n",
       "      <td>0.0</td>\n",
       "      <td>0.0</td>\n",
       "      <td>0.0</td>\n",
       "      <td>...</td>\n",
       "      <td>0.0</td>\n",
       "      <td>0.0</td>\n",
       "      <td>0.0</td>\n",
       "      <td>0.0</td>\n",
       "      <td>0.0</td>\n",
       "      <td>0.0</td>\n",
       "      <td>0.0</td>\n",
       "      <td>0.0</td>\n",
       "      <td>0.0</td>\n",
       "      <td>0.0</td>\n",
       "    </tr>\n",
       "  </tbody>\n",
       "</table>\n",
       "<p>5 rows × 112 columns</p>\n",
       "</div>"
      ],
      "text/plain": [
       "   SuperivisionRole  WorkOutsideMainJob  ai / ml  backend   bi  data  desktop  \\\n",
       "0               0.0                 1.0      0.0      1.0  0.0   0.0      0.0   \n",
       "1               0.0                 0.0      0.0      1.0  0.0   0.0      0.0   \n",
       "2               0.0                 0.0      0.0      0.0  0.0   0.0      0.0   \n",
       "3               1.0                 0.0      0.0      1.0  0.0   0.0      0.0   \n",
       "4               0.0                 0.0      0.0      0.0  0.0   0.0      0.0   \n",
       "\n",
       "   devops  drupal  embedded  ...  CityLive_Piraeus  CityLive_Rethimno  \\\n",
       "0     1.0     0.0       0.0  ...               0.0                0.0   \n",
       "1     0.0     0.0       0.0  ...               0.0                0.0   \n",
       "2     0.0     0.0       0.0  ...               0.0                0.0   \n",
       "3     0.0     0.0       0.0  ...               1.0                0.0   \n",
       "4     0.0     0.0       0.0  ...               0.0                0.0   \n",
       "\n",
       "   CityLive_Salamis  CityLive_Serres  CityLive_Stockholm  \\\n",
       "0               0.0              0.0                 0.0   \n",
       "1               0.0              0.0                 0.0   \n",
       "2               0.0              0.0                 0.0   \n",
       "3               0.0              0.0                 0.0   \n",
       "4               0.0              0.0                 0.0   \n",
       "\n",
       "   CityLive_Thessaloniki  CityLive_Tripoli  CityLive_Vienna  CityLive_Volos  \\\n",
       "0                    0.0               0.0              0.0             0.0   \n",
       "1                    0.0               0.0              0.0             0.0   \n",
       "2                    0.0               0.0              0.0             0.0   \n",
       "3                    0.0               0.0              0.0             0.0   \n",
       "4                    0.0               0.0              0.0             0.0   \n",
       "\n",
       "   CityLive_Xanthi  \n",
       "0              0.0  \n",
       "1              0.0  \n",
       "2              0.0  \n",
       "3              0.0  \n",
       "4              0.0  \n",
       "\n",
       "[5 rows x 112 columns]"
      ]
     },
     "execution_count": 3,
     "metadata": {},
     "output_type": "execute_result"
    }
   ],
   "source": [
    "data_ready = data_ready.astype(np.float32)\n",
    "\n",
    "data_ready_features = data_ready.drop(labels=['NetSalary'], axis=1)\n",
    "data_ready_features.head()"
   ]
  },
  {
   "cell_type": "markdown",
   "metadata": {},
   "source": [
    "## Principal component analysis model"
   ]
  },
  {
   "cell_type": "markdown",
   "metadata": {},
   "source": [
    "After retrieving any necessary configuration values, the principal component analysis model is created. The model should consist of 111 components. In the next steps a subset of components will be selected."
   ]
  },
  {
   "cell_type": "code",
   "execution_count": 4,
   "metadata": {},
   "outputs": [],
   "source": [
    "# get session, IAM role, default bucket\n",
    "session = sagemaker.Session()\n",
    "role = get_execution_role()\n",
    "bucket_name = session.default_bucket()\n",
    "\n",
    "# define location to store model artifacts\n",
    "prefix = 'udacity-nd009t-capstone-project'\n",
    "\n",
    "output_path='s3://{}/{}/'.format(bucket_name, prefix)"
   ]
  },
  {
   "cell_type": "code",
   "execution_count": 5,
   "metadata": {},
   "outputs": [],
   "source": [
    "# define a PCA model\n",
    "# this is current features - 1\n",
    "# you'll select only a portion of these to use, later\n",
    "N_COMPONENTS=112 - 1\n",
    "\n",
    "pca_SM = PCA(role=role,\n",
    "             train_instance_count=1,\n",
    "             train_instance_type='ml.c4.xlarge',\n",
    "             output_path=output_path, # specified, above\n",
    "             num_components=N_COMPONENTS, \n",
    "             sagemaker_session=session)"
   ]
  },
  {
   "cell_type": "code",
   "execution_count": 6,
   "metadata": {},
   "outputs": [],
   "source": [
    "# convert df to np array\n",
    "# train_data_np = counties_scaled.values.astype('float32')\n",
    "train_data_np = data_ready_features.values.astype('float32')\n",
    "\n",
    "# convert to RecordSet format\n",
    "formatted_train_data = pca_SM.record_set(train_data_np)"
   ]
  },
  {
   "cell_type": "markdown",
   "metadata": {},
   "source": [
    "The model is trained."
   ]
  },
  {
   "cell_type": "code",
   "execution_count": 7,
   "metadata": {},
   "outputs": [
    {
     "name": "stderr",
     "output_type": "stream",
     "text": [
      "'get_image_uri' method will be deprecated in favor of 'ImageURIProvider' class in SageMaker Python SDK v2.\n",
      "'s3_input' class will be renamed to 'TrainingInput' in SageMaker Python SDK v2.\n",
      "'get_image_uri' method will be deprecated in favor of 'ImageURIProvider' class in SageMaker Python SDK v2.\n"
     ]
    },
    {
     "name": "stdout",
     "output_type": "stream",
     "text": [
      "2020-10-29 15:58:58 Starting - Starting the training job...\n",
      "2020-10-29 15:59:00 Starting - Launching requested ML instances.........\n",
      "2020-10-29 16:00:36 Starting - Preparing the instances for training...\n",
      "2020-10-29 16:01:25 Downloading - Downloading input data...\n",
      "2020-10-29 16:01:47 Training - Downloading the training image........\u001b[34mDocker entrypoint called with argument(s): train\u001b[0m\n",
      "\u001b[34mRunning default environment configuration script\u001b[0m\n",
      "\u001b[34m[10/29/2020 16:03:15 INFO 140470504032064] Reading default configuration from /opt/amazon/lib/python2.7/site-packages/algorithm/resources/default-conf.json: {u'_num_gpus': u'auto', u'_log_level': u'info', u'subtract_mean': u'true', u'force_dense': u'true', u'epochs': 1, u'algorithm_mode': u'regular', u'extra_components': u'-1', u'_kvstore': u'dist_sync', u'_num_kv_servers': u'auto'}\u001b[0m\n",
      "\u001b[34m[10/29/2020 16:03:15 INFO 140470504032064] Merging with provided configuration from /opt/ml/input/config/hyperparameters.json: {u'feature_dim': u'112', u'mini_batch_size': u'500', u'num_components': u'111'}\u001b[0m\n",
      "\u001b[34m[10/29/2020 16:03:15 INFO 140470504032064] Final configuration: {u'num_components': u'111', u'_num_gpus': u'auto', u'_log_level': u'info', u'subtract_mean': u'true', u'force_dense': u'true', u'epochs': 1, u'algorithm_mode': u'regular', u'feature_dim': u'112', u'extra_components': u'-1', u'_kvstore': u'dist_sync', u'_num_kv_servers': u'auto', u'mini_batch_size': u'500'}\u001b[0m\n",
      "\u001b[34m[10/29/2020 16:03:15 WARNING 140470504032064] Loggers have already been setup.\u001b[0m\n",
      "\u001b[34m[10/29/2020 16:03:15 INFO 140470504032064] Launching parameter server for role scheduler\u001b[0m\n",
      "\u001b[34m[10/29/2020 16:03:15 INFO 140470504032064] {'ECS_CONTAINER_METADATA_URI': 'http://169.254.170.2/v3/04c3dbd2-a06d-4128-b4c5-7489f362098d', 'ECS_CONTAINER_METADATA_URI_V4': 'http://169.254.170.2/v4/04c3dbd2-a06d-4128-b4c5-7489f362098d', 'PROTOCOL_BUFFERS_PYTHON_IMPLEMENTATION_VERSION': '2', 'PATH': '/opt/amazon/bin:/usr/local/nvidia/bin:/usr/local/sbin:/usr/local/bin:/usr/sbin:/usr/bin:/sbin:/bin:/opt/amazon/bin:/opt/amazon/bin', 'SAGEMAKER_HTTP_PORT': '8080', 'HOME': '/root', 'PYTHONUNBUFFERED': 'TRUE', 'CANONICAL_ENVROOT': '/opt/amazon', 'LD_LIBRARY_PATH': '/opt/amazon/lib/python2.7/site-packages/cv2/../../../../lib:/usr/local/nvidia/lib64:/opt/amazon/lib', 'LANG': 'en_US.utf8', 'DMLC_INTERFACE': 'eth0', 'SHLVL': '1', 'AWS_REGION': 'us-east-1', 'NVIDIA_VISIBLE_DEVICES': 'void', 'TRAINING_JOB_NAME': 'pca-2020-10-29-15-58-58-608', 'PROTOCOL_BUFFERS_PYTHON_IMPLEMENTATION': 'cpp', 'ENVROOT': '/opt/amazon', 'SAGEMAKER_DATA_PATH': '/opt/ml', 'NVIDIA_DRIVER_CAPABILITIES': 'compute,utility', 'NVIDIA_REQUIRE_CUDA': 'cuda>=9.0', 'OMP_NUM_THREADS': '2', 'HOSTNAME': 'ip-10-2-148-163.ec2.internal', 'AWS_CONTAINER_CREDENTIALS_RELATIVE_URI': '/v2/credentials/6fb5cbe1-a817-47e4-a6e5-5d3fb899ce74', 'PWD': '/', 'TRAINING_JOB_ARN': 'arn:aws:sagemaker:us-east-1:133384856991:training-job/pca-2020-10-29-15-58-58-608', 'AWS_EXECUTION_ENV': 'AWS_ECS_EC2'}\u001b[0m\n",
      "\u001b[34m[10/29/2020 16:03:15 INFO 140470504032064] envs={'ECS_CONTAINER_METADATA_URI': 'http://169.254.170.2/v3/04c3dbd2-a06d-4128-b4c5-7489f362098d', 'ECS_CONTAINER_METADATA_URI_V4': 'http://169.254.170.2/v4/04c3dbd2-a06d-4128-b4c5-7489f362098d', 'PROTOCOL_BUFFERS_PYTHON_IMPLEMENTATION_VERSION': '2', 'DMLC_NUM_WORKER': '1', 'DMLC_PS_ROOT_PORT': '9000', 'PATH': '/opt/amazon/bin:/usr/local/nvidia/bin:/usr/local/sbin:/usr/local/bin:/usr/sbin:/usr/bin:/sbin:/bin:/opt/amazon/bin:/opt/amazon/bin', 'SAGEMAKER_HTTP_PORT': '8080', 'HOME': '/root', 'PYTHONUNBUFFERED': 'TRUE', 'CANONICAL_ENVROOT': '/opt/amazon', 'LD_LIBRARY_PATH': '/opt/amazon/lib/python2.7/site-packages/cv2/../../../../lib:/usr/local/nvidia/lib64:/opt/amazon/lib', 'LANG': 'en_US.utf8', 'DMLC_INTERFACE': 'eth0', 'SHLVL': '1', 'DMLC_PS_ROOT_URI': '10.2.148.163', 'AWS_REGION': 'us-east-1', 'NVIDIA_VISIBLE_DEVICES': 'void', 'TRAINING_JOB_NAME': 'pca-2020-10-29-15-58-58-608', 'PROTOCOL_BUFFERS_PYTHON_IMPLEMENTATION': 'cpp', 'ENVROOT': '/opt/amazon', 'SAGEMAKER_DATA_PATH': '/opt/ml', 'NVIDIA_DRIVER_CAPABILITIES': 'compute,utility', 'NVIDIA_REQUIRE_CUDA': 'cuda>=9.0', 'OMP_NUM_THREADS': '2', 'HOSTNAME': 'ip-10-2-148-163.ec2.internal', 'AWS_CONTAINER_CREDENTIALS_RELATIVE_URI': '/v2/credentials/6fb5cbe1-a817-47e4-a6e5-5d3fb899ce74', 'DMLC_ROLE': 'scheduler', 'PWD': '/', 'DMLC_NUM_SERVER': '1', 'TRAINING_JOB_ARN': 'arn:aws:sagemaker:us-east-1:133384856991:training-job/pca-2020-10-29-15-58-58-608', 'AWS_EXECUTION_ENV': 'AWS_ECS_EC2'}\u001b[0m\n",
      "\u001b[34m[10/29/2020 16:03:15 INFO 140470504032064] Launching parameter server for role server\u001b[0m\n",
      "\u001b[34m[10/29/2020 16:03:15 INFO 140470504032064] {'ECS_CONTAINER_METADATA_URI': 'http://169.254.170.2/v3/04c3dbd2-a06d-4128-b4c5-7489f362098d', 'ECS_CONTAINER_METADATA_URI_V4': 'http://169.254.170.2/v4/04c3dbd2-a06d-4128-b4c5-7489f362098d', 'PROTOCOL_BUFFERS_PYTHON_IMPLEMENTATION_VERSION': '2', 'PATH': '/opt/amazon/bin:/usr/local/nvidia/bin:/usr/local/sbin:/usr/local/bin:/usr/sbin:/usr/bin:/sbin:/bin:/opt/amazon/bin:/opt/amazon/bin', 'SAGEMAKER_HTTP_PORT': '8080', 'HOME': '/root', 'PYTHONUNBUFFERED': 'TRUE', 'CANONICAL_ENVROOT': '/opt/amazon', 'LD_LIBRARY_PATH': '/opt/amazon/lib/python2.7/site-packages/cv2/../../../../lib:/usr/local/nvidia/lib64:/opt/amazon/lib', 'LANG': 'en_US.utf8', 'DMLC_INTERFACE': 'eth0', 'SHLVL': '1', 'AWS_REGION': 'us-east-1', 'NVIDIA_VISIBLE_DEVICES': 'void', 'TRAINING_JOB_NAME': 'pca-2020-10-29-15-58-58-608', 'PROTOCOL_BUFFERS_PYTHON_IMPLEMENTATION': 'cpp', 'ENVROOT': '/opt/amazon', 'SAGEMAKER_DATA_PATH': '/opt/ml', 'NVIDIA_DRIVER_CAPABILITIES': 'compute,utility', 'NVIDIA_REQUIRE_CUDA': 'cuda>=9.0', 'OMP_NUM_THREADS': '2', 'HOSTNAME': 'ip-10-2-148-163.ec2.internal', 'AWS_CONTAINER_CREDENTIALS_RELATIVE_URI': '/v2/credentials/6fb5cbe1-a817-47e4-a6e5-5d3fb899ce74', 'PWD': '/', 'TRAINING_JOB_ARN': 'arn:aws:sagemaker:us-east-1:133384856991:training-job/pca-2020-10-29-15-58-58-608', 'AWS_EXECUTION_ENV': 'AWS_ECS_EC2'}\u001b[0m\n",
      "\u001b[34m[10/29/2020 16:03:15 INFO 140470504032064] envs={'ECS_CONTAINER_METADATA_URI': 'http://169.254.170.2/v3/04c3dbd2-a06d-4128-b4c5-7489f362098d', 'ECS_CONTAINER_METADATA_URI_V4': 'http://169.254.170.2/v4/04c3dbd2-a06d-4128-b4c5-7489f362098d', 'PROTOCOL_BUFFERS_PYTHON_IMPLEMENTATION_VERSION': '2', 'DMLC_NUM_WORKER': '1', 'DMLC_PS_ROOT_PORT': '9000', 'PATH': '/opt/amazon/bin:/usr/local/nvidia/bin:/usr/local/sbin:/usr/local/bin:/usr/sbin:/usr/bin:/sbin:/bin:/opt/amazon/bin:/opt/amazon/bin', 'SAGEMAKER_HTTP_PORT': '8080', 'HOME': '/root', 'PYTHONUNBUFFERED': 'TRUE', 'CANONICAL_ENVROOT': '/opt/amazon', 'LD_LIBRARY_PATH': '/opt/amazon/lib/python2.7/site-packages/cv2/../../../../lib:/usr/local/nvidia/lib64:/opt/amazon/lib', 'LANG': 'en_US.utf8', 'DMLC_INTERFACE': 'eth0', 'SHLVL': '1', 'DMLC_PS_ROOT_URI': '10.2.148.163', 'AWS_REGION': 'us-east-1', 'NVIDIA_VISIBLE_DEVICES': 'void', 'TRAINING_JOB_NAME': 'pca-2020-10-29-15-58-58-608', 'PROTOCOL_BUFFERS_PYTHON_IMPLEMENTATION': 'cpp', 'ENVROOT': '/opt/amazon', 'SAGEMAKER_DATA_PATH': '/opt/ml', 'NVIDIA_DRIVER_CAPABILITIES': 'compute,utility', 'NVIDIA_REQUIRE_CUDA': 'cuda>=9.0', 'OMP_NUM_THREADS': '2', 'HOSTNAME': 'ip-10-2-148-163.ec2.internal', 'AWS_CONTAINER_CREDENTIALS_RELATIVE_URI': '/v2/credentials/6fb5cbe1-a817-47e4-a6e5-5d3fb899ce74', 'DMLC_ROLE': 'server', 'PWD': '/', 'DMLC_NUM_SERVER': '1', 'TRAINING_JOB_ARN': 'arn:aws:sagemaker:us-east-1:133384856991:training-job/pca-2020-10-29-15-58-58-608', 'AWS_EXECUTION_ENV': 'AWS_ECS_EC2'}\u001b[0m\n",
      "\u001b[34m[10/29/2020 16:03:15 INFO 140470504032064] Environment: {'ECS_CONTAINER_METADATA_URI': 'http://169.254.170.2/v3/04c3dbd2-a06d-4128-b4c5-7489f362098d', 'ECS_CONTAINER_METADATA_URI_V4': 'http://169.254.170.2/v4/04c3dbd2-a06d-4128-b4c5-7489f362098d', 'PROTOCOL_BUFFERS_PYTHON_IMPLEMENTATION_VERSION': '2', 'DMLC_PS_ROOT_PORT': '9000', 'DMLC_NUM_WORKER': '1', 'SAGEMAKER_HTTP_PORT': '8080', 'PATH': '/opt/amazon/bin:/usr/local/nvidia/bin:/usr/local/sbin:/usr/local/bin:/usr/sbin:/usr/bin:/sbin:/bin:/opt/amazon/bin:/opt/amazon/bin', 'PYTHONUNBUFFERED': 'TRUE', 'CANONICAL_ENVROOT': '/opt/amazon', 'LD_LIBRARY_PATH': '/opt/amazon/lib/python2.7/site-packages/cv2/../../../../lib:/usr/local/nvidia/lib64:/opt/amazon/lib', 'LANG': 'en_US.utf8', 'DMLC_INTERFACE': 'eth0', 'SHLVL': '1', 'DMLC_PS_ROOT_URI': '10.2.148.163', 'AWS_REGION': 'us-east-1', 'NVIDIA_VISIBLE_DEVICES': 'void', 'TRAINING_JOB_NAME': 'pca-2020-10-29-15-58-58-608', 'HOME': '/root', 'PROTOCOL_BUFFERS_PYTHON_IMPLEMENTATION': 'cpp', 'ENVROOT': '/opt/amazon', 'SAGEMAKER_DATA_PATH': '/opt/ml', 'NVIDIA_DRIVER_CAPABILITIES': 'compute,utility', 'NVIDIA_REQUIRE_CUDA': 'cuda>=9.0', 'OMP_NUM_THREADS': '2', 'HOSTNAME': 'ip-10-2-148-163.ec2.internal', 'AWS_CONTAINER_CREDENTIALS_RELATIVE_URI': '/v2/credentials/6fb5cbe1-a817-47e4-a6e5-5d3fb899ce74', 'DMLC_ROLE': 'worker', 'PWD': '/', 'DMLC_NUM_SERVER': '1', 'TRAINING_JOB_ARN': 'arn:aws:sagemaker:us-east-1:133384856991:training-job/pca-2020-10-29-15-58-58-608', 'AWS_EXECUTION_ENV': 'AWS_ECS_EC2'}\u001b[0m\n",
      "\u001b[34mProcess 61 is a shell:scheduler.\u001b[0m\n",
      "\u001b[34mProcess 70 is a shell:server.\u001b[0m\n",
      "\u001b[34mProcess 1 is a worker.\u001b[0m\n",
      "\u001b[34m[10/29/2020 16:03:15 INFO 140470504032064] Using default worker.\u001b[0m\n",
      "\u001b[34m[10/29/2020 16:03:15 INFO 140470504032064] Loaded iterator creator application/x-recordio-protobuf for content type ('application/x-recordio-protobuf', '1.0')\u001b[0m\n",
      "\u001b[34m[10/29/2020 16:03:15 INFO 140470504032064] Loaded iterator creator application/x-labeled-vector-protobuf for content type ('application/x-labeled-vector-protobuf', '1.0')\u001b[0m\n",
      "\u001b[34m[10/29/2020 16:03:15 INFO 140470504032064] Loaded iterator creator protobuf for content type ('protobuf', '1.0')\u001b[0m\n",
      "\u001b[34m[10/29/2020 16:03:15 INFO 140470504032064] Checkpoint loading and saving are disabled.\u001b[0m\n",
      "\u001b[34m[10/29/2020 16:03:15 INFO 140470504032064] Create Store: dist_sync\u001b[0m\n",
      "\u001b[34m[10/29/2020 16:03:16 INFO 140470504032064] nvidia-smi took: 0.0251920223236 secs to identify 0 gpus\u001b[0m\n",
      "\u001b[34m[10/29/2020 16:03:16 INFO 140470504032064] Number of GPUs being used: 0\u001b[0m\n",
      "\u001b[34m[10/29/2020 16:03:16 INFO 140470504032064] The default executor is <PCAExecutor on cpu(0)>.\u001b[0m\n",
      "\u001b[34m[10/29/2020 16:03:16 INFO 140470504032064] 112 feature(s) found in 'data'.\u001b[0m\n",
      "\u001b[34m[10/29/2020 16:03:16 INFO 140470504032064] <PCAExecutor on cpu(0)> is assigned to batch slice from 0 to 499.\u001b[0m\n",
      "\u001b[34m#metrics {\"Metrics\": {\"initialize.time\": {\"count\": 1, \"max\": 755.450963973999, \"sum\": 755.450963973999, \"min\": 755.450963973999}}, \"EndTime\": 1603987396.516914, \"Dimensions\": {\"Host\": \"algo-1\", \"Operation\": \"training\", \"Algorithm\": \"PCA\"}, \"StartTime\": 1603987395.757647}\n",
      "\u001b[0m\n",
      "\u001b[34m#metrics {\"Metrics\": {\"Max Batches Seen Between Resets\": {\"count\": 1, \"max\": 0, \"sum\": 0.0, \"min\": 0}, \"Number of Batches Since Last Reset\": {\"count\": 1, \"max\": 0, \"sum\": 0.0, \"min\": 0}, \"Number of Records Since Last Reset\": {\"count\": 1, \"max\": 0, \"sum\": 0.0, \"min\": 0}, \"Total Batches Seen\": {\"count\": 1, \"max\": 0, \"sum\": 0.0, \"min\": 0}, \"Total Records Seen\": {\"count\": 1, \"max\": 0, \"sum\": 0.0, \"min\": 0}, \"Max Records Seen Between Resets\": {\"count\": 1, \"max\": 0, \"sum\": 0.0, \"min\": 0}, \"Reset Count\": {\"count\": 1, \"max\": 0, \"sum\": 0.0, \"min\": 0}}, \"EndTime\": 1603987396.517124, \"Dimensions\": {\"Host\": \"algo-1\", \"Meta\": \"init_train_data_iter\", \"Operation\": \"training\", \"Algorithm\": \"PCA\"}, \"StartTime\": 1603987396.517087}\n",
      "\u001b[0m\n",
      "\u001b[34m[2020-10-29 16:03:16.517] [tensorio] [info] epoch_stats={\"data_pipeline\": \"/opt/ml/input/data/train\", \"epoch\": 0, \"duration\": 758, \"num_examples\": 1, \"num_bytes\": 238000}\u001b[0m\n",
      "\u001b[34m[2020-10-29 16:03:16.555] [tensorio] [info] epoch_stats={\"data_pipeline\": \"/opt/ml/input/data/train\", \"epoch\": 1, \"duration\": 29, \"num_examples\": 2, \"num_bytes\": 275604}\u001b[0m\n",
      "\u001b[34m#metrics {\"Metrics\": {\"epochs\": {\"count\": 1, \"max\": 1, \"sum\": 1.0, \"min\": 1}, \"update.time\": {\"count\": 1, \"max\": 37.95289993286133, \"sum\": 37.95289993286133, \"min\": 37.95289993286133}}, \"EndTime\": 1603987396.555517, \"Dimensions\": {\"Host\": \"algo-1\", \"Operation\": \"training\", \"Algorithm\": \"PCA\"}, \"StartTime\": 1603987396.517011}\n",
      "\u001b[0m\n",
      "\u001b[34m[10/29/2020 16:03:16 INFO 140470504032064] #progress_metric: host=algo-1, completed 100 % of epochs\u001b[0m\n",
      "\u001b[34m#metrics {\"Metrics\": {\"Max Batches Seen Between Resets\": {\"count\": 1, \"max\": 2, \"sum\": 2.0, \"min\": 2}, \"Number of Batches Since Last Reset\": {\"count\": 1, \"max\": 2, \"sum\": 2.0, \"min\": 2}, \"Number of Records Since Last Reset\": {\"count\": 1, \"max\": 579, \"sum\": 579.0, \"min\": 579}, \"Total Batches Seen\": {\"count\": 1, \"max\": 2, \"sum\": 2.0, \"min\": 2}, \"Total Records Seen\": {\"count\": 1, \"max\": 579, \"sum\": 579.0, \"min\": 579}, \"Max Records Seen Between Resets\": {\"count\": 1, \"max\": 579, \"sum\": 579.0, \"min\": 579}, \"Reset Count\": {\"count\": 1, \"max\": 1, \"sum\": 1.0, \"min\": 1}}, \"EndTime\": 1603987396.555973, \"Dimensions\": {\"Host\": \"algo-1\", \"Meta\": \"training_data_iter\", \"Operation\": \"training\", \"Algorithm\": \"PCA\", \"epoch\": 0}, \"StartTime\": 1603987396.517467}\n",
      "\u001b[0m\n",
      "\u001b[34m[10/29/2020 16:03:16 INFO 140470504032064] #throughput_metric: host=algo-1, train throughput=14961.2923687 records/second\u001b[0m\n",
      "\u001b[34m#metrics {\"Metrics\": {\"finalize.time\": {\"count\": 1, \"max\": 19.32811737060547, \"sum\": 19.32811737060547, \"min\": 19.32811737060547}}, \"EndTime\": 1603987396.575882, \"Dimensions\": {\"Host\": \"algo-1\", \"Operation\": \"training\", \"Algorithm\": \"PCA\"}, \"StartTime\": 1603987396.55562}\n",
      "\u001b[0m\n",
      "\u001b[34m[10/29/2020 16:03:16 INFO 140470504032064] Test data is not provided.\u001b[0m\n",
      "\u001b[34m#metrics {\"Metrics\": {\"totaltime\": {\"count\": 1, \"max\": 959.4929218292236, \"sum\": 959.4929218292236, \"min\": 959.4929218292236}, \"setuptime\": {\"count\": 1, \"max\": 17.57502555847168, \"sum\": 17.57502555847168, \"min\": 17.57502555847168}}, \"EndTime\": 1603987396.581301, \"Dimensions\": {\"Host\": \"algo-1\", \"Operation\": \"training\", \"Algorithm\": \"PCA\"}, \"StartTime\": 1603987396.575944}\n",
      "\u001b[0m\n"
     ]
    },
    {
     "name": "stdout",
     "output_type": "stream",
     "text": [
      "\n",
      "2020-10-29 16:03:25 Uploading - Uploading generated training model\n",
      "2020-10-29 16:03:25 Completed - Training job completed\n",
      "Training seconds: 120\n",
      "Billable seconds: 120\n",
      "CPU times: user 570 ms, sys: 33.2 ms, total: 603 ms\n",
      "Wall time: 4min 42s\n"
     ]
    }
   ],
   "source": [
    "%%time\n",
    "\n",
    "# train the PCA mode on the formatted data\n",
    "pca_SM.fit(formatted_train_data)"
   ]
  },
  {
   "cell_type": "markdown",
   "metadata": {},
   "source": [
    "We load the output model in order to retrieve the model parameters."
   ]
  },
  {
   "cell_type": "code",
   "execution_count": 8,
   "metadata": {},
   "outputs": [
    {
     "data": {
      "text/plain": [
       "2304"
      ]
     },
     "execution_count": 8,
     "metadata": {},
     "output_type": "execute_result"
    }
   ],
   "source": [
    "# Get the name of the training job, it's suggested that you copy-paste\n",
    "# from the notebook or from a specific job in the AWS console\n",
    "\n",
    "training_job_name='pca-2020-10-29-15-58-58-608'\n",
    "\n",
    "# where the model is saved, by default\n",
    "model_key = os.path.join(prefix, training_job_name, 'output/model.tar.gz')\n",
    "# print(model_key)\n",
    "\n",
    "# download and unzip model\n",
    "boto3.resource('s3').Bucket(bucket_name).download_file(model_key, 'model.tar.gz')\n",
    "\n",
    "# unzipping as model_algo-1\n",
    "os.system('tar -zxvf model.tar.gz')\n",
    "os.system('unzip model_algo-1')"
   ]
  },
  {
   "cell_type": "code",
   "execution_count": 9,
   "metadata": {},
   "outputs": [],
   "source": [
    "# loading the unzipped artifacts\n",
    "pca_model_params = mx.ndarray.load('model_algo-1')\n",
    "\n",
    "# what are the params\n",
    "# print(pca_model_params)"
   ]
  },
  {
   "cell_type": "code",
   "execution_count": 10,
   "metadata": {},
   "outputs": [],
   "source": [
    "# get selected params\n",
    "s=pd.DataFrame(pca_model_params['s'].asnumpy())\n",
    "v=pd.DataFrame(pca_model_params['v'].asnumpy())"
   ]
  },
  {
   "cell_type": "code",
   "execution_count": 11,
   "metadata": {},
   "outputs": [
    {
     "name": "stdout",
     "output_type": "stream",
     "text": [
      "             0\n",
      "93    7.391248\n",
      "94    7.511139\n",
      "95    7.820765\n",
      "96    8.192153\n",
      "97    8.538879\n",
      "98    8.758378\n",
      "99    9.155324\n",
      "100   9.286876\n",
      "101   9.681390\n",
      "102   9.998695\n",
      "103  10.582881\n",
      "104  11.343452\n",
      "105  11.828951\n",
      "106  12.776322\n",
      "107  13.411459\n",
      "108  15.376316\n",
      "109  15.741590\n",
      "110  19.784815\n"
     ]
    }
   ],
   "source": [
    "# looking at top 18 components\n",
    "n_principal_components = 18\n",
    "\n",
    "start_idx = N_COMPONENTS - n_principal_components\n",
    "\n",
    "# print a selection of s\n",
    "print(s.iloc[start_idx:, :])"
   ]
  },
  {
   "cell_type": "markdown",
   "metadata": {},
   "source": [
    "### Explained data variance"
   ]
  },
  {
   "cell_type": "markdown",
   "metadata": {},
   "source": [
    "The PCA model creates 111 principal components, but when creating new dimensionality-reduced training data, only a few top n components should be selected. To decide how many top components to include, it's helpful to look at how much data variance the components capture. A helper function is defined below that calculates the explained variance."
   ]
  },
  {
   "cell_type": "code",
   "execution_count": 12,
   "metadata": {},
   "outputs": [],
   "source": [
    "# Calculate the explained variance for the top n principal components\n",
    "# you may assume you have access to the global var N_COMPONENTS\n",
    "def explained_variance(s, n_top_components):\n",
    "    '''Calculates the approx. data variance that n_top_components captures.\n",
    "       :param s: A dataframe of singular values for top components; \n",
    "           the top value is in the last row.\n",
    "       :param n_top_components: An integer, the number of top components to use.\n",
    "       :return: The expected data variance covered by the n_top_components.'''\n",
    "    \n",
    "    start_idx = N_COMPONENTS - n_top_components ## 33-3 = 30, for example\n",
    "    # calculate approx variance\n",
    "    exp_variance = np.square(s.iloc[start_idx:,:]).sum()/np.square(s).sum()\n",
    "    \n",
    "    return exp_variance[0]"
   ]
  },
  {
   "cell_type": "markdown",
   "metadata": {},
   "source": [
    "For the original, high-dimensional data, 112 features captured 100% of our data variance. The goal is to reduce the dimensions in order to capture 80%-90%. It was decided to keep the top 18 components."
   ]
  },
  {
   "cell_type": "code",
   "execution_count": 13,
   "metadata": {},
   "outputs": [
    {
     "name": "stdout",
     "output_type": "stream",
     "text": [
      "Explained variance:  0.8088978\n"
     ]
    }
   ],
   "source": [
    "n_top_components = 18 # select a value for the number of top components\n",
    "\n",
    "# calculate the explained variance\n",
    "exp_variance = explained_variance(s, n_top_components)\n",
    "print('Explained variance: ', exp_variance)"
   ]
  },
  {
   "cell_type": "markdown",
   "metadata": {},
   "source": [
    "### Component makeup analysis"
   ]
  },
  {
   "cell_type": "markdown",
   "metadata": {},
   "source": [
    "A helper function is defined in order to examine the makeup of each PCA component based on the weightings of the original features that are included in the component."
   ]
  },
  {
   "cell_type": "code",
   "execution_count": 14,
   "metadata": {},
   "outputs": [],
   "source": [
    "def display_component(v, features_list, component_num, n_weights=10):\n",
    "    \n",
    "    # get index of component (last row - component_num)\n",
    "    row_idx = N_COMPONENTS-component_num\n",
    "\n",
    "    # get the list of weights from a row in v, dataframe\n",
    "    v_1_row = v.iloc[:, row_idx]\n",
    "    v_1 = np.squeeze(v_1_row.values)\n",
    "\n",
    "    # match weights to features in counties_scaled dataframe, using list comporehension\n",
    "    comps = pd.DataFrame(list(zip(v_1, features_list)), \n",
    "                         columns=['weights', 'features'])\n",
    "\n",
    "    # we'll want to sort by the largest n_weights\n",
    "    # weights can be neg/pos and we'll sort by magnitude\n",
    "    comps['abs_weights']=comps['weights'].apply(lambda x: np.abs(x))\n",
    "    sorted_weight_data = comps.sort_values('abs_weights', ascending=False).head(n_weights)\n",
    "\n",
    "    # display using seaborn\n",
    "    ax=plt.subplots(figsize=(10,6))\n",
    "    ax=sns.barplot(data=sorted_weight_data, \n",
    "                   x=\"weights\", \n",
    "                   y=\"features\", \n",
    "                   palette=\"Blues_d\")\n",
    "    ax.set_title(\"PCA Component Makeup, Component #\" + str(component_num))\n",
    "    plt.show()"
   ]
  },
  {
   "cell_type": "markdown",
   "metadata": {},
   "source": [
    "The following code shows the feature-level makeup of the first component."
   ]
  },
  {
   "cell_type": "code",
   "execution_count": 15,
   "metadata": {},
   "outputs": [
    {
     "data": {
      "image/png": "[encoded data removed]",
      "text/plain": [
       "<Figure size 720x432 with 1 Axes>"
      ]
     },
     "metadata": {
      "needs_background": "light"
     },
     "output_type": "display_data"
    }
   ],
   "source": [
    "%matplotlib inline \n",
    "# display makeup of first component\n",
    "num=1\n",
    "display_component(v, data_ready_features, component_num=num, n_weights=10)"
   ]
  },
  {
   "cell_type": "markdown",
   "metadata": {},
   "source": [
    "The following code shows the feature-level makeup of the second component."
   ]
  },
  {
   "cell_type": "code",
   "execution_count": 16,
   "metadata": {},
   "outputs": [
    {
     "data": {
      "image/png": "[encoded data removed]",
      "text/plain": [
       "<Figure size 720x432 with 1 Axes>"
      ]
     },
     "metadata": {
      "needs_background": "light"
     },
     "output_type": "display_data"
    }
   ],
   "source": [
    "%matplotlib inline \n",
    "# display makeup of first component\n",
    "num=2\n",
    "display_component(v, data_ready_features, component_num=num, n_weights=10)"
   ]
  },
  {
   "cell_type": "markdown",
   "metadata": {},
   "source": [
    "## Transform data"
   ]
  },
  {
   "cell_type": "markdown",
   "metadata": {},
   "source": [
    "The model is deployed and used in order to transform the original data."
   ]
  },
  {
   "cell_type": "code",
   "execution_count": 17,
   "metadata": {},
   "outputs": [
    {
     "name": "stderr",
     "output_type": "stream",
     "text": [
      "Parameter image will be renamed to image_uri in SageMaker Python SDK v2.\n"
     ]
    },
    {
     "name": "stdout",
     "output_type": "stream",
     "text": [
      "-------------------!CPU times: user 339 ms, sys: 13.3 ms, total: 352 ms\n",
      "Wall time: 9min 33s\n"
     ]
    }
   ],
   "source": [
    "%%time\n",
    "# this takes a little while, around 7mins\n",
    "pca_predictor = pca_SM.deploy(initial_instance_count=1, \n",
    "                              instance_type='ml.t2.medium')"
   ]
  },
  {
   "cell_type": "code",
   "execution_count": 18,
   "metadata": {},
   "outputs": [],
   "source": [
    "# pass np train data to the PCA model\n",
    "train_pca = pca_predictor.predict(data_ready_features.values)"
   ]
  },
  {
   "cell_type": "markdown",
   "metadata": {},
   "source": [
    "Then the largest n components are selected to reduce the dimensionality of the dataset."
   ]
  },
  {
   "cell_type": "code",
   "execution_count": 19,
   "metadata": {},
   "outputs": [],
   "source": [
    "# create dimensionality-reduced data\n",
    "def create_transformed_df(train_pca, counties_scaled, n_top_components):\n",
    "    ''' Return a dataframe of data points with component features. \n",
    "        The dataframe should be indexed by State-County and contain component values.\n",
    "        :param train_pca: A list of pca training data, returned by a PCA model.\n",
    "        :param counties_scaled: A dataframe of normalized, original features.\n",
    "        :param n_top_components: An integer, the number of top components to use.\n",
    "        :return: A dataframe, indexed by State-County, with n_top_component values as columns.        \n",
    "     '''\n",
    "    # create new dataframe to add data to\n",
    "    data_ready_transformed=pd.DataFrame()\n",
    "\n",
    "    # for each of our new, transformed data points\n",
    "    # append the component values to the dataframe\n",
    "    for data in train_pca:\n",
    "        # get component values for each data point\n",
    "        components=data.label['projection'].float32_tensor.values\n",
    "        data_ready_transformed=data_ready_transformed.append([list(components)])\n",
    "\n",
    "    # index by county, just like counties_scaled\n",
    "    data_ready_transformed.index=counties_scaled.index\n",
    "\n",
    "    # keep only the top n components\n",
    "    start_idx = N_COMPONENTS - n_top_components\n",
    "    data_ready_transformed = data_ready_transformed.iloc[:,start_idx:]\n",
    "    \n",
    "    # reverse columns, component order     \n",
    "    return data_ready_transformed.iloc[:, ::-1]"
   ]
  },
  {
   "cell_type": "code",
   "execution_count": 20,
   "metadata": {},
   "outputs": [
    {
     "data": {
      "text/html": [
       "<div>\n",
       "<style scoped>\n",
       "    .dataframe tbody tr th:only-of-type {\n",
       "        vertical-align: middle;\n",
       "    }\n",
       "\n",
       "    .dataframe tbody tr th {\n",
       "        vertical-align: top;\n",
       "    }\n",
       "\n",
       "    .dataframe thead th {\n",
       "        text-align: right;\n",
       "    }\n",
       "</style>\n",
       "<table border=\"1\" class=\"dataframe\">\n",
       "  <thead>\n",
       "    <tr style=\"text-align: right;\">\n",
       "      <th></th>\n",
       "      <th>c_1</th>\n",
       "      <th>c_2</th>\n",
       "      <th>c_3</th>\n",
       "      <th>c_4</th>\n",
       "      <th>c_5</th>\n",
       "      <th>c_6</th>\n",
       "      <th>c_7</th>\n",
       "      <th>c_8</th>\n",
       "      <th>c_9</th>\n",
       "      <th>c_10</th>\n",
       "      <th>c_11</th>\n",
       "      <th>c_12</th>\n",
       "      <th>c_13</th>\n",
       "      <th>c_14</th>\n",
       "      <th>c_15</th>\n",
       "      <th>c_16</th>\n",
       "      <th>c_17</th>\n",
       "      <th>c_18</th>\n",
       "    </tr>\n",
       "  </thead>\n",
       "  <tbody>\n",
       "    <tr>\n",
       "      <th>0</th>\n",
       "      <td>-1.491342</td>\n",
       "      <td>0.499634</td>\n",
       "      <td>-0.246501</td>\n",
       "      <td>-0.013990</td>\n",
       "      <td>0.122125</td>\n",
       "      <td>0.641558</td>\n",
       "      <td>0.995069</td>\n",
       "      <td>-0.566953</td>\n",
       "      <td>-0.535222</td>\n",
       "      <td>-0.221655</td>\n",
       "      <td>0.156440</td>\n",
       "      <td>0.350517</td>\n",
       "      <td>-0.177770</td>\n",
       "      <td>-0.122503</td>\n",
       "      <td>0.151946</td>\n",
       "      <td>0.744834</td>\n",
       "      <td>0.281528</td>\n",
       "      <td>0.573844</td>\n",
       "    </tr>\n",
       "    <tr>\n",
       "      <th>1</th>\n",
       "      <td>-0.655306</td>\n",
       "      <td>-0.969973</td>\n",
       "      <td>-0.163931</td>\n",
       "      <td>-0.454757</td>\n",
       "      <td>0.761710</td>\n",
       "      <td>0.588066</td>\n",
       "      <td>0.454240</td>\n",
       "      <td>0.052555</td>\n",
       "      <td>0.352372</td>\n",
       "      <td>0.546993</td>\n",
       "      <td>0.029524</td>\n",
       "      <td>-0.017812</td>\n",
       "      <td>-0.102289</td>\n",
       "      <td>-0.062792</td>\n",
       "      <td>-0.216299</td>\n",
       "      <td>0.600695</td>\n",
       "      <td>0.317243</td>\n",
       "      <td>0.123078</td>\n",
       "    </tr>\n",
       "    <tr>\n",
       "      <th>2</th>\n",
       "      <td>-0.758965</td>\n",
       "      <td>-0.449133</td>\n",
       "      <td>0.749488</td>\n",
       "      <td>0.417095</td>\n",
       "      <td>-0.005073</td>\n",
       "      <td>0.753143</td>\n",
       "      <td>0.681534</td>\n",
       "      <td>-0.473462</td>\n",
       "      <td>-0.168147</td>\n",
       "      <td>0.097466</td>\n",
       "      <td>-0.279967</td>\n",
       "      <td>-0.422298</td>\n",
       "      <td>-0.091360</td>\n",
       "      <td>0.551935</td>\n",
       "      <td>-0.614136</td>\n",
       "      <td>-0.085850</td>\n",
       "      <td>0.373777</td>\n",
       "      <td>-0.116853</td>\n",
       "    </tr>\n",
       "    <tr>\n",
       "      <th>3</th>\n",
       "      <td>-0.421834</td>\n",
       "      <td>0.116480</td>\n",
       "      <td>-0.543815</td>\n",
       "      <td>0.766281</td>\n",
       "      <td>-0.964952</td>\n",
       "      <td>1.075574</td>\n",
       "      <td>0.477425</td>\n",
       "      <td>0.632098</td>\n",
       "      <td>0.344622</td>\n",
       "      <td>0.048370</td>\n",
       "      <td>0.119166</td>\n",
       "      <td>0.188046</td>\n",
       "      <td>-0.130923</td>\n",
       "      <td>-0.102078</td>\n",
       "      <td>-0.303772</td>\n",
       "      <td>0.435454</td>\n",
       "      <td>0.711709</td>\n",
       "      <td>-0.033842</td>\n",
       "    </tr>\n",
       "    <tr>\n",
       "      <th>4</th>\n",
       "      <td>-0.799304</td>\n",
       "      <td>-0.547005</td>\n",
       "      <td>0.467526</td>\n",
       "      <td>0.169639</td>\n",
       "      <td>0.199666</td>\n",
       "      <td>0.866347</td>\n",
       "      <td>0.437763</td>\n",
       "      <td>-1.026231</td>\n",
       "      <td>0.135216</td>\n",
       "      <td>-0.215621</td>\n",
       "      <td>-0.164567</td>\n",
       "      <td>-0.365027</td>\n",
       "      <td>0.053935</td>\n",
       "      <td>0.291851</td>\n",
       "      <td>-0.363867</td>\n",
       "      <td>-0.240961</td>\n",
       "      <td>0.025495</td>\n",
       "      <td>0.195494</td>\n",
       "    </tr>\n",
       "  </tbody>\n",
       "</table>\n",
       "</div>"
      ],
      "text/plain": [
       "        c_1       c_2       c_3       c_4       c_5       c_6       c_7  \\\n",
       "0 -1.491342  0.499634 -0.246501 -0.013990  0.122125  0.641558  0.995069   \n",
       "1 -0.655306 -0.969973 -0.163931 -0.454757  0.761710  0.588066  0.454240   \n",
       "2 -0.758965 -0.449133  0.749488  0.417095 -0.005073  0.753143  0.681534   \n",
       "3 -0.421834  0.116480 -0.543815  0.766281 -0.964952  1.075574  0.477425   \n",
       "4 -0.799304 -0.547005  0.467526  0.169639  0.199666  0.866347  0.437763   \n",
       "\n",
       "        c_8       c_9      c_10      c_11      c_12      c_13      c_14  \\\n",
       "0 -0.566953 -0.535222 -0.221655  0.156440  0.350517 -0.177770 -0.122503   \n",
       "1  0.052555  0.352372  0.546993  0.029524 -0.017812 -0.102289 -0.062792   \n",
       "2 -0.473462 -0.168147  0.097466 -0.279967 -0.422298 -0.091360  0.551935   \n",
       "3  0.632098  0.344622  0.048370  0.119166  0.188046 -0.130923 -0.102078   \n",
       "4 -1.026231  0.135216 -0.215621 -0.164567 -0.365027  0.053935  0.291851   \n",
       "\n",
       "       c_15      c_16      c_17      c_18  \n",
       "0  0.151946  0.744834  0.281528  0.573844  \n",
       "1 -0.216299  0.600695  0.317243  0.123078  \n",
       "2 -0.614136 -0.085850  0.373777 -0.116853  \n",
       "3 -0.303772  0.435454  0.711709 -0.033842  \n",
       "4 -0.363867 -0.240961  0.025495  0.195494  "
      ]
     },
     "execution_count": 20,
     "metadata": {},
     "output_type": "execute_result"
    }
   ],
   "source": [
    "# Specify top n\n",
    "top_n = 18\n",
    "\n",
    "# call your function and create a new dataframe\n",
    "data_ready_transformed = create_transformed_df(train_pca, data_ready_features, n_top_components=top_n)\n",
    "\n",
    "# add descriptive columns\n",
    "PCA_list=['c_1', 'c_2', 'c_3', 'c_4', 'c_5', 'c_6', 'c_7','c_8', 'c_9', 'c_10', 'c_11', 'c_12', 'c_13', 'c_14','c_15', 'c_16', 'c_17', 'c_18']\n",
    "data_ready_transformed.columns=PCA_list \n",
    "\n",
    "# print result\n",
    "data_ready_transformed.head()"
   ]
  },
  {
   "cell_type": "markdown",
   "metadata": {},
   "source": [
    "The `NetSalary` column is added back to the transformed DataFrame."
   ]
  },
  {
   "cell_type": "code",
   "execution_count": 21,
   "metadata": {},
   "outputs": [
    {
     "name": "stdout",
     "output_type": "stream",
     "text": [
      "<class 'pandas.core.frame.DataFrame'>\n",
      "RangeIndex: 579 entries, 0 to 578\n",
      "Data columns (total 19 columns):\n",
      " #   Column     Non-Null Count  Dtype  \n",
      "---  ------     --------------  -----  \n",
      " 0   c_1        579 non-null    float64\n",
      " 1   c_2        579 non-null    float64\n",
      " 2   c_3        579 non-null    float64\n",
      " 3   c_4        579 non-null    float64\n",
      " 4   c_5        579 non-null    float64\n",
      " 5   c_6        579 non-null    float64\n",
      " 6   c_7        579 non-null    float64\n",
      " 7   c_8        579 non-null    float64\n",
      " 8   c_9        579 non-null    float64\n",
      " 9   c_10       579 non-null    float64\n",
      " 10  c_11       579 non-null    float64\n",
      " 11  c_12       579 non-null    float64\n",
      " 12  c_13       579 non-null    float64\n",
      " 13  c_14       579 non-null    float64\n",
      " 14  c_15       579 non-null    float64\n",
      " 15  c_16       579 non-null    float64\n",
      " 16  c_17       579 non-null    float64\n",
      " 17  c_18       579 non-null    float64\n",
      " 18  NetSalary  579 non-null    float32\n",
      "dtypes: float32(1), float64(18)\n",
      "memory usage: 83.8 KB\n"
     ]
    }
   ],
   "source": [
    "data_ready_transformed['NetSalary'] = data_ready['NetSalary']\n",
    "data_ready_transformed.info()"
   ]
  },
  {
   "cell_type": "markdown",
   "metadata": {},
   "source": [
    "## Save data"
   ]
  },
  {
   "cell_type": "code",
   "execution_count": 22,
   "metadata": {},
   "outputs": [],
   "source": [
    "data_dir = 'data'\n",
    "if not os.path.exists(data_dir):\n",
    "    os.makedirs(data_dir)\n",
    "\n",
    "output_file = 'data_ready_pca.csv'\n",
    "data_ready_transformed.to_csv(os.path.join(data_dir, output_file), index=False)"
   ]
  },
  {
   "cell_type": "markdown",
   "metadata": {},
   "source": [
    "## Cleanup"
   ]
  },
  {
   "cell_type": "code",
   "execution_count": 23,
   "metadata": {},
   "outputs": [],
   "source": [
    "# delete predictor endpoint\n",
    "session.delete_endpoint(pca_predictor.endpoint)"
   ]
  },
  {
   "cell_type": "code",
   "execution_count": null,
   "metadata": {},
   "outputs": [],
   "source": []
  }
 ],
 "metadata": {
  "kernelspec": {
   "display_name": "conda_mxnet_latest_p37",
   "language": "python",
   "name": "conda_mxnet_latest_p37"
  },
  "language_info": {
   "codemirror_mode": {
    "name": "ipython",
    "version": 3
   },
   "file_extension": ".py",
   "mimetype": "text/x-python",
   "name": "python",
   "nbconvert_exporter": "python",
   "pygments_lexer": "ipython3",
   "version": "3.7.6"
  }
 },
 "nbformat": 4,
 "nbformat_minor": 4
}
